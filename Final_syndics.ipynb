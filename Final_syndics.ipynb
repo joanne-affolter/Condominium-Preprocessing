{
 "cells": [
  {
   "cell_type": "markdown",
   "metadata": {},
   "source": [
    "## Creation de la database pour REVE solution "
   ]
  },
  {
   "cell_type": "code",
   "execution_count": 788,
   "metadata": {},
   "outputs": [],
   "source": [
    "import pandas as pd \n",
    "import warnings \n",
    "import math \n",
    "import re \n",
    "\n",
    "from library import *\n",
    "\n",
    "warnings.filterwarnings(\"ignore\")"
   ]
  },
  {
   "cell_type": "code",
   "execution_count": 789,
   "metadata": {},
   "outputs": [],
   "source": [
    "matching_colonnes_copros = {\n",
    "    \"Numéro d'immatriculation\":\"Immatriculation_Copro\",\n",
    "    \"Nom d’usage de la copropriété\":\"Nom\",\n",
    "    \"Numéro et Voie (adresse de référence)\":\"Rue\",\n",
    "    \"Code postal (adresse de référence)\":\"Code_Postal\",\n",
    "    \"Commune (adresse de référence)\":\"Ville\",\n",
    "    \"Code INSEE commune 1\":\"Code_Commune_INSEE\",\n",
    "    \"long\":\"Longitude\",\n",
    "    \"lat\":\"Latitude\",\n",
    "    \"Nombre total de lots\":\"Nombre_Total_Lots\",\n",
    "    \"Nombre total de lots à usage d’habitation, de bureaux ou de commerces\":\"Nombre_Total_Lots_HBC\",\n",
    "    \"Nombre de lots à usage d’habitation\":\"Nombre_Total_Lots_Habitation\",\n",
    "    \"Nombre de lots de stationnement\":\"Nombre_Total_Lots_Stationnement\",\n",
    "    \"Résidence service\":\"Residence_Service\",\n",
    "    \"Syndicat coopératif\":\"Syndicat_Cooperatif\",\n",
    "    \"Syndicat principal ou syndicat secondaire\":\"Syndicat_Principal\",\n",
    "    \"Si secondaire, n° d’immatriculation du principal\":\"Immatriculation_Syndicat_Principal\",\n",
    "    \"Nombre d’ASL auxquelles est rattaché le syndicat de copropriétaires\":\"Nombre_ASL\",\n",
    "    \"Nombre d’AFUL auxquelles est rattaché le syndicat de copropriétaires\":\"Nombre_AFUL\",\n",
    "    \"Nombre d’Unions de syndicats auxquelles est rattaché le syndicat de copropriétaires\":\"Nombre_Union_Syndicat\",\n",
    "    \"Référence Cadastrale 1\":\"Reference_Cadastrale\",\n",
    "    \"Copro dans ACV\":\"Copro_Dans_ACV\",\n",
    "    \"Copro dans PVD\":\"Copro_Dans_PVD\",\n",
    "    \"Copro aidée\":\"Copro_Aidee\",\n",
    "    \"EPCI\":\"Code_EPCI\",\n",
    "\n",
    "    \"Identification du représentant légal  (raison sociale et le numéro SIRET du syndic professionnel ou Civilité/prénom/ nom du syndic bénévole ou coopératif)\" : \"SIRET_Syndic_Nom_Syndic\",\n",
    "    \"Siret représentant légal (si existe)\" : \"SIRET_Syndic\",\n",
    "    \"Type de syndic : bénévole / professionnel / non connu\" : \"Type_Syndic\"\n",
    "}\n",
    "\n",
    "col_copros = [\n",
    "    \"Immatriculation_Copro\",\n",
    "    \"Nom\",\n",
    "    \"Rue\",\n",
    "    \"Code_Postal\",\n",
    "    \"Ville\",\n",
    "    \"Code_Commune_INSEE\",\n",
    "    \"Departement\",\n",
    "    \"Longitude\",\n",
    "    \"Latitude\",\n",
    "    \"Nombre_Total_Lots\",\n",
    "    \"Nombre_Total_Lots_HBC\",\n",
    "    \"Nombre_Total_Lots_Habitation\",\n",
    "    \"Nombre_Total_Lots_Stationnement\",\n",
    "    \"Residence_Service\",\n",
    "    \"Syndicat_Cooperatif\",\n",
    "    \"Syndicat_Principal\",\n",
    "    \"Immatriculation_Syndicat_Principal\",\n",
    "    \"Nombre_ASL\",\n",
    "    \"Nombre_AFUL\",\n",
    "    \"Nombre_Union_Syndicat\",\n",
    "    \"Debut_Construction\",\n",
    "    \"Fin_Construction\",\n",
    "    \"Reference_Cadastrale\",\n",
    "    \"Copro_Dans_ACV\",\n",
    "    \"Copro_Dans_PVD\",\n",
    "    \"Copro_Aidee\",\n",
    "    \"Code_EPCI\",\n",
    "    \n",
    "    \"SIRET_Syndic\",\n",
    "    \"Type_Syndic\",\n",
    "    'Nom_Syndic',\n",
    "]\n",
    "\n",
    "col_syndics = [\n",
    "    \"SIRET\", \n",
    "    \"Nom\", \n",
    "    \n",
    "    \"Categorie\", \n",
    "    \"Description\", \n",
    "    \"Rue\", \n",
    "    \"Ville\", \n",
    "    \"Code_Postal\", \n",
    "    \"Code_Pays\", \n",
    "    \"Effectif\", \n",
    "    \"Typologie\", \n",
    "    \"Forme_Juridique_INSEE\", \n",
    "    \"Date_Creation\", \n",
    "    \"Autre_Denomination\", \n",
    "    \"Type\", \n",
    "    \"Raison_Social\", \n",
    "    \"Code_APE\", \n",
    "    \"Mandat_En_Cours\", \n",
    "    \"Tel_1\", \n",
    "    \"Tel_2\", \n",
    "    \"Tel_3\", \n",
    "    \"Tel_4\", \n",
    "    \"Tel_5\", \n",
    "    \"Tel_6\", \n",
    "\n",
    "    \"URL_Linkedin\"\n",
    "    \"URL_Website\", \n",
    "    \"URL_Solocal\",\n",
    "\n",
    "    \"URL_Linkedin_Entreprise\", \n",
    "    \"ID_Linkedin_Entreprise\", \n",
    "    \"Statut\", \n",
    "    \"Record_ID_Hubspot\",\n",
    "]"
   ]
  },
  {
   "cell_type": "markdown",
   "metadata": {},
   "source": [
    "### **RNC_Copros**"
   ]
  },
  {
   "cell_type": "markdown",
   "metadata": {},
   "source": [
    "#### Clean "
   ]
  },
  {
   "cell_type": "code",
   "execution_count": 790,
   "metadata": {},
   "outputs": [],
   "source": [
    "path_copros = \"data/raw/rnc_copros_france.csv\"\n",
    "copros_df = pd.read_csv(path_copros, dtype={'Siret représentant légal (si existe)': str})"
   ]
  },
  {
   "cell_type": "markdown",
   "metadata": {},
   "source": [
    "Date"
   ]
  },
  {
   "cell_type": "code",
   "execution_count": 791,
   "metadata": {},
   "outputs": [],
   "source": [
    "def date_construction(x) :\n",
    "    if x ==\"\" :\n",
    "        return '0000 0000'\n",
    "    elif \"AVANT\" in x :\n",
    "        return \"0000 \" + x[-4:]\n",
    "    elif \"A_COMPTER_DE\" in x :\n",
    "        return x[-4:] + \" 0000\"\n",
    "    elif \"DE\" in  x and \"A\" in x:\n",
    "        return x[3:7] + \" \" + x[-4:]\n",
    "    else :\n",
    "        return \"0000 0000\"\n",
    "\n",
    "copros_df['Période de construction'] = copros_df['Période de construction'].fillna(\"?\")\n",
    "copros_df['Période de construction'] =copros_df['Période de construction'].apply(lambda x : date_construction(x))\n",
    "\n",
    "copros_df['Debut_Construction'] =copros_df['Période de construction'].apply(lambda x : x[:4])\n",
    "copros_df['Fin_Construction'] =copros_df['Période de construction'].apply(lambda x : x[-4:])"
   ]
  },
  {
   "cell_type": "markdown",
   "metadata": {},
   "source": [
    "Renommer colonnes"
   ]
  },
  {
   "cell_type": "code",
   "execution_count": 792,
   "metadata": {},
   "outputs": [],
   "source": [
    "copros_df.rename(matching_colonnes_copros, axis=1, inplace=True)"
   ]
  },
  {
   "cell_type": "markdown",
   "metadata": {},
   "source": [
    "Int -> Float"
   ]
  },
  {
   "cell_type": "code",
   "execution_count": 793,
   "metadata": {},
   "outputs": [],
   "source": [
    "def int2float(colname) : \n",
    "    copros_df[colname] = pd.to_numeric(copros_df[colname], errors='coerce').fillna(-1).astype(int)\n",
    "    return copros_df\n",
    "\n",
    "copros_df = int2float('Code_Postal')\n",
    "copros_df = int2float('Nombre_Total_Lots')\n",
    "copros_df = int2float('Nombre_Total_Lots_Habitation')\n",
    "copros_df = int2float('Nombre_Total_Lots_Stationnement')\n",
    "copros_df = int2float('Nombre_Total_Lots_HBC')\n",
    "copros_df = int2float('Nombre_ASL')\n",
    "copros_df = int2float('Nombre_AFUL')\n",
    "copros_df = int2float('Nombre_Union_Syndicat')\n",
    "copros_df = int2float('Code_EPCI')"
   ]
  },
  {
   "cell_type": "markdown",
   "metadata": {},
   "source": [
    "Adresse"
   ]
  },
  {
   "cell_type": "code",
   "execution_count": 794,
   "metadata": {},
   "outputs": [],
   "source": [
    "# Définir le DataFrame\n",
    "def expand_abbreviations(address):\n",
    "    abbreviations = {\n",
    "        \"av\": \"avenue\",\n",
    "        \"all\": \"allée\",\n",
    "        \"r\": \"rue\",\n",
    "        \"pl\": \"place\",\n",
    "        \"bd\": \"boulevard\",\n",
    "        \"imp\": \"impasse\",\n",
    "        \"chem\": \"chemin\",\n",
    "        \"sq\": \"square\",\n",
    "        \"cte\": \"côte\",\n",
    "        \"prom\": \"promenade\",\n",
    "        \"espl\": \"esplanade\",\n",
    "        \"qu\": \"quai\",\n",
    "        \"pass\": \"passage\",\n",
    "        \"crs\": \"cours\",\n",
    "        \"carref\": \"carrefour\",\n",
    "        \"sent\": \"sentier\",\n",
    "        \"cor\": \"corridor\",\n",
    "        \"pce\": \"place\",\n",
    "        \"rte\": \"route\",\n",
    "        \"rt\": \"route\",\n",
    "        \"roc\": \"rocade\",\n",
    "    }\n",
    "\n",
    "    if pd.notna(address):\n",
    "        for abbrev, full_form in abbreviations.items():\n",
    "            address = address.replace(abbrev + \" \", full_form + \" \")\n",
    "    return address\n",
    "\n",
    "#Rue\n",
    "copros_df['Rue'] = copros_df['Rue'].astype(str)\n",
    "copros_df['Rue'] = copros_df['Rue'].apply(expand_abbreviations)\n",
    "\n",
    "\n",
    "# Département \n",
    "copros_df['Departement'] = copros_df['Code_Postal'].apply(lambda x : int(str(x)[:2]))"
   ]
  },
  {
   "cell_type": "markdown",
   "metadata": {},
   "source": [
    "Oui/non -> bool"
   ]
  },
  {
   "cell_type": "code",
   "execution_count": 795,
   "metadata": {},
   "outputs": [],
   "source": [
    "def YN2bool(x) :\n",
    "    copros_df[x] = copros_df[x].map({'Oui': 1, 'Non': 0}).fillna(-1).astype(int)\n",
    "    return copros_df\n",
    "\n",
    "copros_df = YN2bool('Residence_Service')\n",
    "copros_df = YN2bool('Syndicat_Cooperatif')\n",
    "copros_df = YN2bool('Syndicat_Principal')\n",
    "copros_df = YN2bool('Copro_Dans_ACV')\n",
    "copros_df = YN2bool('Copro_Dans_PVD')\n",
    "copros_df = YN2bool('Copro_Aidee')"
   ]
  },
  {
   "cell_type": "markdown",
   "metadata": {},
   "source": [
    "Extraction SIRET + Nom Syndic "
   ]
  },
  {
   "cell_type": "code",
   "execution_count": 796,
   "metadata": {},
   "outputs": [],
   "source": [
    "def nom_syndic(x) : \n",
    "    if pd.isna(x) :\n",
    "        return '?'\n",
    "    \n",
    "    x = x.split(\" \")\n",
    "    \n",
    "    if len(x[-1]) == 14 :\n",
    "        return ' '.join(x[:-1])\n",
    "\n",
    "    else : \n",
    "        return ' '.join(x)\n",
    "\n",
    "copros_df['Nom_Syndic'] = copros_df['SIRET_Syndic_Nom_Syndic'].apply(lambda x : nom_syndic(x))\n",
    "copros_df = copros_df.drop('SIRET_Syndic_Nom_Syndic', axis=1)"
   ]
  },
  {
   "cell_type": "markdown",
   "metadata": {},
   "source": [
    "Récupérer les colonnes d'intérêt"
   ]
  },
  {
   "cell_type": "code",
   "execution_count": 797,
   "metadata": {},
   "outputs": [],
   "source": [
    "copros_df = copros_df[col_copros]\n",
    "copros_df = copros_df.fillna('null')"
   ]
  },
  {
   "cell_type": "code",
   "execution_count": 798,
   "metadata": {},
   "outputs": [
    {
     "name": "stdout",
     "output_type": "stream",
     "text": [
      "572542  copros dans RNC\n"
     ]
    }
   ],
   "source": [
    "print(len(copros_df), ' copros dans RNC')"
   ]
  },
  {
   "cell_type": "markdown",
   "metadata": {},
   "source": [
    "#### Graphiques copros"
   ]
  },
  {
   "cell_type": "code",
   "execution_count": 799,
   "metadata": {},
   "outputs": [],
   "source": [
    "df2 = copros_df.copy()\n",
    "\n",
    "def departement(x) : \n",
    "    x = str(x)\n",
    "    return x[:2]\n",
    "\n",
    "df2[\"Département\"] = df2[\"Code_Postal\"].apply(lambda x : departement(x))"
   ]
  },
  {
   "cell_type": "code",
   "execution_count": 800,
   "metadata": {},
   "outputs": [],
   "source": [
    "df2_dep = df2.groupby(\"Département\").count()\n",
    "df2_dep = df2_dep.reset_index()\n",
    "\n",
    "dep_a_garder = [\"91\", \"92\", \"93\", \"94\", \"95\"]\n",
    "df2_dep = df2_dep.loc[df2_dep[\"Département\"].isin(dep_a_garder)]"
   ]
  },
  {
   "cell_type": "code",
   "execution_count": 801,
   "metadata": {},
   "outputs": [
    {
     "data": {
      "application/vnd.plotly.v1+json": {
       "config": {
        "plotlyServerURL": "https://plot.ly"
       },
       "data": [
        {
         "alignmentgroup": "True",
         "hovertemplate": "Département=%{x}<br>Nom=%{y}<extra></extra>",
         "legendgroup": "",
         "marker": {
          "color": "#636efa",
          "pattern": {
           "shape": ""
          }
         },
         "name": "",
         "offsetgroup": "",
         "orientation": "v",
         "showlegend": false,
         "textposition": "auto",
         "type": "bar",
         "x": [
          "91",
          "92",
          "93",
          "94",
          "95"
         ],
         "xaxis": "x",
         "y": [
          8537,
          20476,
          12047,
          13950,
          6729
         ],
         "yaxis": "y"
        }
       ],
       "layout": {
        "barmode": "relative",
        "legend": {
         "tracegroupgap": 0
        },
        "margin": {
         "t": 60
        },
        "template": {
         "data": {
          "bar": [
           {
            "error_x": {
             "color": "#2a3f5f"
            },
            "error_y": {
             "color": "#2a3f5f"
            },
            "marker": {
             "line": {
              "color": "#E5ECF6",
              "width": 0.5
             },
             "pattern": {
              "fillmode": "overlay",
              "size": 10,
              "solidity": 0.2
             }
            },
            "type": "bar"
           }
          ],
          "barpolar": [
           {
            "marker": {
             "line": {
              "color": "#E5ECF6",
              "width": 0.5
             },
             "pattern": {
              "fillmode": "overlay",
              "size": 10,
              "solidity": 0.2
             }
            },
            "type": "barpolar"
           }
          ],
          "carpet": [
           {
            "aaxis": {
             "endlinecolor": "#2a3f5f",
             "gridcolor": "white",
             "linecolor": "white",
             "minorgridcolor": "white",
             "startlinecolor": "#2a3f5f"
            },
            "baxis": {
             "endlinecolor": "#2a3f5f",
             "gridcolor": "white",
             "linecolor": "white",
             "minorgridcolor": "white",
             "startlinecolor": "#2a3f5f"
            },
            "type": "carpet"
           }
          ],
          "choropleth": [
           {
            "colorbar": {
             "outlinewidth": 0,
             "ticks": ""
            },
            "type": "choropleth"
           }
          ],
          "contour": [
           {
            "colorbar": {
             "outlinewidth": 0,
             "ticks": ""
            },
            "colorscale": [
             [
              0,
              "#0d0887"
             ],
             [
              0.1111111111111111,
              "#46039f"
             ],
             [
              0.2222222222222222,
              "#7201a8"
             ],
             [
              0.3333333333333333,
              "#9c179e"
             ],
             [
              0.4444444444444444,
              "#bd3786"
             ],
             [
              0.5555555555555556,
              "#d8576b"
             ],
             [
              0.6666666666666666,
              "#ed7953"
             ],
             [
              0.7777777777777778,
              "#fb9f3a"
             ],
             [
              0.8888888888888888,
              "#fdca26"
             ],
             [
              1,
              "#f0f921"
             ]
            ],
            "type": "contour"
           }
          ],
          "contourcarpet": [
           {
            "colorbar": {
             "outlinewidth": 0,
             "ticks": ""
            },
            "type": "contourcarpet"
           }
          ],
          "heatmap": [
           {
            "colorbar": {
             "outlinewidth": 0,
             "ticks": ""
            },
            "colorscale": [
             [
              0,
              "#0d0887"
             ],
             [
              0.1111111111111111,
              "#46039f"
             ],
             [
              0.2222222222222222,
              "#7201a8"
             ],
             [
              0.3333333333333333,
              "#9c179e"
             ],
             [
              0.4444444444444444,
              "#bd3786"
             ],
             [
              0.5555555555555556,
              "#d8576b"
             ],
             [
              0.6666666666666666,
              "#ed7953"
             ],
             [
              0.7777777777777778,
              "#fb9f3a"
             ],
             [
              0.8888888888888888,
              "#fdca26"
             ],
             [
              1,
              "#f0f921"
             ]
            ],
            "type": "heatmap"
           }
          ],
          "heatmapgl": [
           {
            "colorbar": {
             "outlinewidth": 0,
             "ticks": ""
            },
            "colorscale": [
             [
              0,
              "#0d0887"
             ],
             [
              0.1111111111111111,
              "#46039f"
             ],
             [
              0.2222222222222222,
              "#7201a8"
             ],
             [
              0.3333333333333333,
              "#9c179e"
             ],
             [
              0.4444444444444444,
              "#bd3786"
             ],
             [
              0.5555555555555556,
              "#d8576b"
             ],
             [
              0.6666666666666666,
              "#ed7953"
             ],
             [
              0.7777777777777778,
              "#fb9f3a"
             ],
             [
              0.8888888888888888,
              "#fdca26"
             ],
             [
              1,
              "#f0f921"
             ]
            ],
            "type": "heatmapgl"
           }
          ],
          "histogram": [
           {
            "marker": {
             "pattern": {
              "fillmode": "overlay",
              "size": 10,
              "solidity": 0.2
             }
            },
            "type": "histogram"
           }
          ],
          "histogram2d": [
           {
            "colorbar": {
             "outlinewidth": 0,
             "ticks": ""
            },
            "colorscale": [
             [
              0,
              "#0d0887"
             ],
             [
              0.1111111111111111,
              "#46039f"
             ],
             [
              0.2222222222222222,
              "#7201a8"
             ],
             [
              0.3333333333333333,
              "#9c179e"
             ],
             [
              0.4444444444444444,
              "#bd3786"
             ],
             [
              0.5555555555555556,
              "#d8576b"
             ],
             [
              0.6666666666666666,
              "#ed7953"
             ],
             [
              0.7777777777777778,
              "#fb9f3a"
             ],
             [
              0.8888888888888888,
              "#fdca26"
             ],
             [
              1,
              "#f0f921"
             ]
            ],
            "type": "histogram2d"
           }
          ],
          "histogram2dcontour": [
           {
            "colorbar": {
             "outlinewidth": 0,
             "ticks": ""
            },
            "colorscale": [
             [
              0,
              "#0d0887"
             ],
             [
              0.1111111111111111,
              "#46039f"
             ],
             [
              0.2222222222222222,
              "#7201a8"
             ],
             [
              0.3333333333333333,
              "#9c179e"
             ],
             [
              0.4444444444444444,
              "#bd3786"
             ],
             [
              0.5555555555555556,
              "#d8576b"
             ],
             [
              0.6666666666666666,
              "#ed7953"
             ],
             [
              0.7777777777777778,
              "#fb9f3a"
             ],
             [
              0.8888888888888888,
              "#fdca26"
             ],
             [
              1,
              "#f0f921"
             ]
            ],
            "type": "histogram2dcontour"
           }
          ],
          "mesh3d": [
           {
            "colorbar": {
             "outlinewidth": 0,
             "ticks": ""
            },
            "type": "mesh3d"
           }
          ],
          "parcoords": [
           {
            "line": {
             "colorbar": {
              "outlinewidth": 0,
              "ticks": ""
             }
            },
            "type": "parcoords"
           }
          ],
          "pie": [
           {
            "automargin": true,
            "type": "pie"
           }
          ],
          "scatter": [
           {
            "fillpattern": {
             "fillmode": "overlay",
             "size": 10,
             "solidity": 0.2
            },
            "type": "scatter"
           }
          ],
          "scatter3d": [
           {
            "line": {
             "colorbar": {
              "outlinewidth": 0,
              "ticks": ""
             }
            },
            "marker": {
             "colorbar": {
              "outlinewidth": 0,
              "ticks": ""
             }
            },
            "type": "scatter3d"
           }
          ],
          "scattercarpet": [
           {
            "marker": {
             "colorbar": {
              "outlinewidth": 0,
              "ticks": ""
             }
            },
            "type": "scattercarpet"
           }
          ],
          "scattergeo": [
           {
            "marker": {
             "colorbar": {
              "outlinewidth": 0,
              "ticks": ""
             }
            },
            "type": "scattergeo"
           }
          ],
          "scattergl": [
           {
            "marker": {
             "colorbar": {
              "outlinewidth": 0,
              "ticks": ""
             }
            },
            "type": "scattergl"
           }
          ],
          "scattermapbox": [
           {
            "marker": {
             "colorbar": {
              "outlinewidth": 0,
              "ticks": ""
             }
            },
            "type": "scattermapbox"
           }
          ],
          "scatterpolar": [
           {
            "marker": {
             "colorbar": {
              "outlinewidth": 0,
              "ticks": ""
             }
            },
            "type": "scatterpolar"
           }
          ],
          "scatterpolargl": [
           {
            "marker": {
             "colorbar": {
              "outlinewidth": 0,
              "ticks": ""
             }
            },
            "type": "scatterpolargl"
           }
          ],
          "scatterternary": [
           {
            "marker": {
             "colorbar": {
              "outlinewidth": 0,
              "ticks": ""
             }
            },
            "type": "scatterternary"
           }
          ],
          "surface": [
           {
            "colorbar": {
             "outlinewidth": 0,
             "ticks": ""
            },
            "colorscale": [
             [
              0,
              "#0d0887"
             ],
             [
              0.1111111111111111,
              "#46039f"
             ],
             [
              0.2222222222222222,
              "#7201a8"
             ],
             [
              0.3333333333333333,
              "#9c179e"
             ],
             [
              0.4444444444444444,
              "#bd3786"
             ],
             [
              0.5555555555555556,
              "#d8576b"
             ],
             [
              0.6666666666666666,
              "#ed7953"
             ],
             [
              0.7777777777777778,
              "#fb9f3a"
             ],
             [
              0.8888888888888888,
              "#fdca26"
             ],
             [
              1,
              "#f0f921"
             ]
            ],
            "type": "surface"
           }
          ],
          "table": [
           {
            "cells": {
             "fill": {
              "color": "#EBF0F8"
             },
             "line": {
              "color": "white"
             }
            },
            "header": {
             "fill": {
              "color": "#C8D4E3"
             },
             "line": {
              "color": "white"
             }
            },
            "type": "table"
           }
          ]
         },
         "layout": {
          "annotationdefaults": {
           "arrowcolor": "#2a3f5f",
           "arrowhead": 0,
           "arrowwidth": 1
          },
          "autotypenumbers": "strict",
          "coloraxis": {
           "colorbar": {
            "outlinewidth": 0,
            "ticks": ""
           }
          },
          "colorscale": {
           "diverging": [
            [
             0,
             "#8e0152"
            ],
            [
             0.1,
             "#c51b7d"
            ],
            [
             0.2,
             "#de77ae"
            ],
            [
             0.3,
             "#f1b6da"
            ],
            [
             0.4,
             "#fde0ef"
            ],
            [
             0.5,
             "#f7f7f7"
            ],
            [
             0.6,
             "#e6f5d0"
            ],
            [
             0.7,
             "#b8e186"
            ],
            [
             0.8,
             "#7fbc41"
            ],
            [
             0.9,
             "#4d9221"
            ],
            [
             1,
             "#276419"
            ]
           ],
           "sequential": [
            [
             0,
             "#0d0887"
            ],
            [
             0.1111111111111111,
             "#46039f"
            ],
            [
             0.2222222222222222,
             "#7201a8"
            ],
            [
             0.3333333333333333,
             "#9c179e"
            ],
            [
             0.4444444444444444,
             "#bd3786"
            ],
            [
             0.5555555555555556,
             "#d8576b"
            ],
            [
             0.6666666666666666,
             "#ed7953"
            ],
            [
             0.7777777777777778,
             "#fb9f3a"
            ],
            [
             0.8888888888888888,
             "#fdca26"
            ],
            [
             1,
             "#f0f921"
            ]
           ],
           "sequentialminus": [
            [
             0,
             "#0d0887"
            ],
            [
             0.1111111111111111,
             "#46039f"
            ],
            [
             0.2222222222222222,
             "#7201a8"
            ],
            [
             0.3333333333333333,
             "#9c179e"
            ],
            [
             0.4444444444444444,
             "#bd3786"
            ],
            [
             0.5555555555555556,
             "#d8576b"
            ],
            [
             0.6666666666666666,
             "#ed7953"
            ],
            [
             0.7777777777777778,
             "#fb9f3a"
            ],
            [
             0.8888888888888888,
             "#fdca26"
            ],
            [
             1,
             "#f0f921"
            ]
           ]
          },
          "colorway": [
           "#636efa",
           "#EF553B",
           "#00cc96",
           "#ab63fa",
           "#FFA15A",
           "#19d3f3",
           "#FF6692",
           "#B6E880",
           "#FF97FF",
           "#FECB52"
          ],
          "font": {
           "color": "#2a3f5f"
          },
          "geo": {
           "bgcolor": "white",
           "lakecolor": "white",
           "landcolor": "#E5ECF6",
           "showlakes": true,
           "showland": true,
           "subunitcolor": "white"
          },
          "hoverlabel": {
           "align": "left"
          },
          "hovermode": "closest",
          "mapbox": {
           "style": "light"
          },
          "paper_bgcolor": "white",
          "plot_bgcolor": "#E5ECF6",
          "polar": {
           "angularaxis": {
            "gridcolor": "white",
            "linecolor": "white",
            "ticks": ""
           },
           "bgcolor": "#E5ECF6",
           "radialaxis": {
            "gridcolor": "white",
            "linecolor": "white",
            "ticks": ""
           }
          },
          "scene": {
           "xaxis": {
            "backgroundcolor": "#E5ECF6",
            "gridcolor": "white",
            "gridwidth": 2,
            "linecolor": "white",
            "showbackground": true,
            "ticks": "",
            "zerolinecolor": "white"
           },
           "yaxis": {
            "backgroundcolor": "#E5ECF6",
            "gridcolor": "white",
            "gridwidth": 2,
            "linecolor": "white",
            "showbackground": true,
            "ticks": "",
            "zerolinecolor": "white"
           },
           "zaxis": {
            "backgroundcolor": "#E5ECF6",
            "gridcolor": "white",
            "gridwidth": 2,
            "linecolor": "white",
            "showbackground": true,
            "ticks": "",
            "zerolinecolor": "white"
           }
          },
          "shapedefaults": {
           "line": {
            "color": "#2a3f5f"
           }
          },
          "ternary": {
           "aaxis": {
            "gridcolor": "white",
            "linecolor": "white",
            "ticks": ""
           },
           "baxis": {
            "gridcolor": "white",
            "linecolor": "white",
            "ticks": ""
           },
           "bgcolor": "#E5ECF6",
           "caxis": {
            "gridcolor": "white",
            "linecolor": "white",
            "ticks": ""
           }
          },
          "title": {
           "x": 0.05
          },
          "xaxis": {
           "automargin": true,
           "gridcolor": "white",
           "linecolor": "white",
           "ticks": "",
           "title": {
            "standoff": 15
           },
           "zerolinecolor": "white",
           "zerolinewidth": 2
          },
          "yaxis": {
           "automargin": true,
           "gridcolor": "white",
           "linecolor": "white",
           "ticks": "",
           "title": {
            "standoff": 15
           },
           "zerolinecolor": "white",
           "zerolinewidth": 2
          }
         }
        },
        "xaxis": {
         "anchor": "y",
         "domain": [
          0,
          1
         ],
         "title": {
          "text": "Département"
         }
        },
        "yaxis": {
         "anchor": "x",
         "domain": [
          0,
          1
         ],
         "title": {
          "text": "Nom"
         }
        }
       }
      }
     },
     "metadata": {},
     "output_type": "display_data"
    }
   ],
   "source": [
    "import plotly.express as px\n",
    "\n",
    "fig = px.bar(df2_dep, x='Département', y='Nom')\n",
    "fig.show()"
   ]
  },
  {
   "cell_type": "code",
   "execution_count": 802,
   "metadata": {},
   "outputs": [
    {
     "data": {
      "application/vnd.plotly.v1+json": {
       "config": {
        "plotlyServerURL": "https://plot.ly"
       },
       "data": [
        {
         "domain": {
          "x": [
           0,
           1
          ],
          "y": [
           0,
           1
          ]
         },
         "hovertemplate": "Département=%{label}<br>Nom=%{value}<extra></extra>",
         "labels": [
          "91",
          "92",
          "93",
          "94",
          "95"
         ],
         "legendgroup": "",
         "name": "",
         "showlegend": true,
         "type": "pie",
         "values": [
          8537,
          20476,
          12047,
          13950,
          6729
         ]
        }
       ],
       "layout": {
        "legend": {
         "tracegroupgap": 0
        },
        "margin": {
         "t": 60
        },
        "template": {
         "data": {
          "bar": [
           {
            "error_x": {
             "color": "#2a3f5f"
            },
            "error_y": {
             "color": "#2a3f5f"
            },
            "marker": {
             "line": {
              "color": "#E5ECF6",
              "width": 0.5
             },
             "pattern": {
              "fillmode": "overlay",
              "size": 10,
              "solidity": 0.2
             }
            },
            "type": "bar"
           }
          ],
          "barpolar": [
           {
            "marker": {
             "line": {
              "color": "#E5ECF6",
              "width": 0.5
             },
             "pattern": {
              "fillmode": "overlay",
              "size": 10,
              "solidity": 0.2
             }
            },
            "type": "barpolar"
           }
          ],
          "carpet": [
           {
            "aaxis": {
             "endlinecolor": "#2a3f5f",
             "gridcolor": "white",
             "linecolor": "white",
             "minorgridcolor": "white",
             "startlinecolor": "#2a3f5f"
            },
            "baxis": {
             "endlinecolor": "#2a3f5f",
             "gridcolor": "white",
             "linecolor": "white",
             "minorgridcolor": "white",
             "startlinecolor": "#2a3f5f"
            },
            "type": "carpet"
           }
          ],
          "choropleth": [
           {
            "colorbar": {
             "outlinewidth": 0,
             "ticks": ""
            },
            "type": "choropleth"
           }
          ],
          "contour": [
           {
            "colorbar": {
             "outlinewidth": 0,
             "ticks": ""
            },
            "colorscale": [
             [
              0,
              "#0d0887"
             ],
             [
              0.1111111111111111,
              "#46039f"
             ],
             [
              0.2222222222222222,
              "#7201a8"
             ],
             [
              0.3333333333333333,
              "#9c179e"
             ],
             [
              0.4444444444444444,
              "#bd3786"
             ],
             [
              0.5555555555555556,
              "#d8576b"
             ],
             [
              0.6666666666666666,
              "#ed7953"
             ],
             [
              0.7777777777777778,
              "#fb9f3a"
             ],
             [
              0.8888888888888888,
              "#fdca26"
             ],
             [
              1,
              "#f0f921"
             ]
            ],
            "type": "contour"
           }
          ],
          "contourcarpet": [
           {
            "colorbar": {
             "outlinewidth": 0,
             "ticks": ""
            },
            "type": "contourcarpet"
           }
          ],
          "heatmap": [
           {
            "colorbar": {
             "outlinewidth": 0,
             "ticks": ""
            },
            "colorscale": [
             [
              0,
              "#0d0887"
             ],
             [
              0.1111111111111111,
              "#46039f"
             ],
             [
              0.2222222222222222,
              "#7201a8"
             ],
             [
              0.3333333333333333,
              "#9c179e"
             ],
             [
              0.4444444444444444,
              "#bd3786"
             ],
             [
              0.5555555555555556,
              "#d8576b"
             ],
             [
              0.6666666666666666,
              "#ed7953"
             ],
             [
              0.7777777777777778,
              "#fb9f3a"
             ],
             [
              0.8888888888888888,
              "#fdca26"
             ],
             [
              1,
              "#f0f921"
             ]
            ],
            "type": "heatmap"
           }
          ],
          "heatmapgl": [
           {
            "colorbar": {
             "outlinewidth": 0,
             "ticks": ""
            },
            "colorscale": [
             [
              0,
              "#0d0887"
             ],
             [
              0.1111111111111111,
              "#46039f"
             ],
             [
              0.2222222222222222,
              "#7201a8"
             ],
             [
              0.3333333333333333,
              "#9c179e"
             ],
             [
              0.4444444444444444,
              "#bd3786"
             ],
             [
              0.5555555555555556,
              "#d8576b"
             ],
             [
              0.6666666666666666,
              "#ed7953"
             ],
             [
              0.7777777777777778,
              "#fb9f3a"
             ],
             [
              0.8888888888888888,
              "#fdca26"
             ],
             [
              1,
              "#f0f921"
             ]
            ],
            "type": "heatmapgl"
           }
          ],
          "histogram": [
           {
            "marker": {
             "pattern": {
              "fillmode": "overlay",
              "size": 10,
              "solidity": 0.2
             }
            },
            "type": "histogram"
           }
          ],
          "histogram2d": [
           {
            "colorbar": {
             "outlinewidth": 0,
             "ticks": ""
            },
            "colorscale": [
             [
              0,
              "#0d0887"
             ],
             [
              0.1111111111111111,
              "#46039f"
             ],
             [
              0.2222222222222222,
              "#7201a8"
             ],
             [
              0.3333333333333333,
              "#9c179e"
             ],
             [
              0.4444444444444444,
              "#bd3786"
             ],
             [
              0.5555555555555556,
              "#d8576b"
             ],
             [
              0.6666666666666666,
              "#ed7953"
             ],
             [
              0.7777777777777778,
              "#fb9f3a"
             ],
             [
              0.8888888888888888,
              "#fdca26"
             ],
             [
              1,
              "#f0f921"
             ]
            ],
            "type": "histogram2d"
           }
          ],
          "histogram2dcontour": [
           {
            "colorbar": {
             "outlinewidth": 0,
             "ticks": ""
            },
            "colorscale": [
             [
              0,
              "#0d0887"
             ],
             [
              0.1111111111111111,
              "#46039f"
             ],
             [
              0.2222222222222222,
              "#7201a8"
             ],
             [
              0.3333333333333333,
              "#9c179e"
             ],
             [
              0.4444444444444444,
              "#bd3786"
             ],
             [
              0.5555555555555556,
              "#d8576b"
             ],
             [
              0.6666666666666666,
              "#ed7953"
             ],
             [
              0.7777777777777778,
              "#fb9f3a"
             ],
             [
              0.8888888888888888,
              "#fdca26"
             ],
             [
              1,
              "#f0f921"
             ]
            ],
            "type": "histogram2dcontour"
           }
          ],
          "mesh3d": [
           {
            "colorbar": {
             "outlinewidth": 0,
             "ticks": ""
            },
            "type": "mesh3d"
           }
          ],
          "parcoords": [
           {
            "line": {
             "colorbar": {
              "outlinewidth": 0,
              "ticks": ""
             }
            },
            "type": "parcoords"
           }
          ],
          "pie": [
           {
            "automargin": true,
            "type": "pie"
           }
          ],
          "scatter": [
           {
            "fillpattern": {
             "fillmode": "overlay",
             "size": 10,
             "solidity": 0.2
            },
            "type": "scatter"
           }
          ],
          "scatter3d": [
           {
            "line": {
             "colorbar": {
              "outlinewidth": 0,
              "ticks": ""
             }
            },
            "marker": {
             "colorbar": {
              "outlinewidth": 0,
              "ticks": ""
             }
            },
            "type": "scatter3d"
           }
          ],
          "scattercarpet": [
           {
            "marker": {
             "colorbar": {
              "outlinewidth": 0,
              "ticks": ""
             }
            },
            "type": "scattercarpet"
           }
          ],
          "scattergeo": [
           {
            "marker": {
             "colorbar": {
              "outlinewidth": 0,
              "ticks": ""
             }
            },
            "type": "scattergeo"
           }
          ],
          "scattergl": [
           {
            "marker": {
             "colorbar": {
              "outlinewidth": 0,
              "ticks": ""
             }
            },
            "type": "scattergl"
           }
          ],
          "scattermapbox": [
           {
            "marker": {
             "colorbar": {
              "outlinewidth": 0,
              "ticks": ""
             }
            },
            "type": "scattermapbox"
           }
          ],
          "scatterpolar": [
           {
            "marker": {
             "colorbar": {
              "outlinewidth": 0,
              "ticks": ""
             }
            },
            "type": "scatterpolar"
           }
          ],
          "scatterpolargl": [
           {
            "marker": {
             "colorbar": {
              "outlinewidth": 0,
              "ticks": ""
             }
            },
            "type": "scatterpolargl"
           }
          ],
          "scatterternary": [
           {
            "marker": {
             "colorbar": {
              "outlinewidth": 0,
              "ticks": ""
             }
            },
            "type": "scatterternary"
           }
          ],
          "surface": [
           {
            "colorbar": {
             "outlinewidth": 0,
             "ticks": ""
            },
            "colorscale": [
             [
              0,
              "#0d0887"
             ],
             [
              0.1111111111111111,
              "#46039f"
             ],
             [
              0.2222222222222222,
              "#7201a8"
             ],
             [
              0.3333333333333333,
              "#9c179e"
             ],
             [
              0.4444444444444444,
              "#bd3786"
             ],
             [
              0.5555555555555556,
              "#d8576b"
             ],
             [
              0.6666666666666666,
              "#ed7953"
             ],
             [
              0.7777777777777778,
              "#fb9f3a"
             ],
             [
              0.8888888888888888,
              "#fdca26"
             ],
             [
              1,
              "#f0f921"
             ]
            ],
            "type": "surface"
           }
          ],
          "table": [
           {
            "cells": {
             "fill": {
              "color": "#EBF0F8"
             },
             "line": {
              "color": "white"
             }
            },
            "header": {
             "fill": {
              "color": "#C8D4E3"
             },
             "line": {
              "color": "white"
             }
            },
            "type": "table"
           }
          ]
         },
         "layout": {
          "annotationdefaults": {
           "arrowcolor": "#2a3f5f",
           "arrowhead": 0,
           "arrowwidth": 1
          },
          "autotypenumbers": "strict",
          "coloraxis": {
           "colorbar": {
            "outlinewidth": 0,
            "ticks": ""
           }
          },
          "colorscale": {
           "diverging": [
            [
             0,
             "#8e0152"
            ],
            [
             0.1,
             "#c51b7d"
            ],
            [
             0.2,
             "#de77ae"
            ],
            [
             0.3,
             "#f1b6da"
            ],
            [
             0.4,
             "#fde0ef"
            ],
            [
             0.5,
             "#f7f7f7"
            ],
            [
             0.6,
             "#e6f5d0"
            ],
            [
             0.7,
             "#b8e186"
            ],
            [
             0.8,
             "#7fbc41"
            ],
            [
             0.9,
             "#4d9221"
            ],
            [
             1,
             "#276419"
            ]
           ],
           "sequential": [
            [
             0,
             "#0d0887"
            ],
            [
             0.1111111111111111,
             "#46039f"
            ],
            [
             0.2222222222222222,
             "#7201a8"
            ],
            [
             0.3333333333333333,
             "#9c179e"
            ],
            [
             0.4444444444444444,
             "#bd3786"
            ],
            [
             0.5555555555555556,
             "#d8576b"
            ],
            [
             0.6666666666666666,
             "#ed7953"
            ],
            [
             0.7777777777777778,
             "#fb9f3a"
            ],
            [
             0.8888888888888888,
             "#fdca26"
            ],
            [
             1,
             "#f0f921"
            ]
           ],
           "sequentialminus": [
            [
             0,
             "#0d0887"
            ],
            [
             0.1111111111111111,
             "#46039f"
            ],
            [
             0.2222222222222222,
             "#7201a8"
            ],
            [
             0.3333333333333333,
             "#9c179e"
            ],
            [
             0.4444444444444444,
             "#bd3786"
            ],
            [
             0.5555555555555556,
             "#d8576b"
            ],
            [
             0.6666666666666666,
             "#ed7953"
            ],
            [
             0.7777777777777778,
             "#fb9f3a"
            ],
            [
             0.8888888888888888,
             "#fdca26"
            ],
            [
             1,
             "#f0f921"
            ]
           ]
          },
          "colorway": [
           "#636efa",
           "#EF553B",
           "#00cc96",
           "#ab63fa",
           "#FFA15A",
           "#19d3f3",
           "#FF6692",
           "#B6E880",
           "#FF97FF",
           "#FECB52"
          ],
          "font": {
           "color": "#2a3f5f"
          },
          "geo": {
           "bgcolor": "white",
           "lakecolor": "white",
           "landcolor": "#E5ECF6",
           "showlakes": true,
           "showland": true,
           "subunitcolor": "white"
          },
          "hoverlabel": {
           "align": "left"
          },
          "hovermode": "closest",
          "mapbox": {
           "style": "light"
          },
          "paper_bgcolor": "white",
          "plot_bgcolor": "#E5ECF6",
          "polar": {
           "angularaxis": {
            "gridcolor": "white",
            "linecolor": "white",
            "ticks": ""
           },
           "bgcolor": "#E5ECF6",
           "radialaxis": {
            "gridcolor": "white",
            "linecolor": "white",
            "ticks": ""
           }
          },
          "scene": {
           "xaxis": {
            "backgroundcolor": "#E5ECF6",
            "gridcolor": "white",
            "gridwidth": 2,
            "linecolor": "white",
            "showbackground": true,
            "ticks": "",
            "zerolinecolor": "white"
           },
           "yaxis": {
            "backgroundcolor": "#E5ECF6",
            "gridcolor": "white",
            "gridwidth": 2,
            "linecolor": "white",
            "showbackground": true,
            "ticks": "",
            "zerolinecolor": "white"
           },
           "zaxis": {
            "backgroundcolor": "#E5ECF6",
            "gridcolor": "white",
            "gridwidth": 2,
            "linecolor": "white",
            "showbackground": true,
            "ticks": "",
            "zerolinecolor": "white"
           }
          },
          "shapedefaults": {
           "line": {
            "color": "#2a3f5f"
           }
          },
          "ternary": {
           "aaxis": {
            "gridcolor": "white",
            "linecolor": "white",
            "ticks": ""
           },
           "baxis": {
            "gridcolor": "white",
            "linecolor": "white",
            "ticks": ""
           },
           "bgcolor": "#E5ECF6",
           "caxis": {
            "gridcolor": "white",
            "linecolor": "white",
            "ticks": ""
           }
          },
          "title": {
           "x": 0.05
          },
          "xaxis": {
           "automargin": true,
           "gridcolor": "white",
           "linecolor": "white",
           "ticks": "",
           "title": {
            "standoff": 15
           },
           "zerolinecolor": "white",
           "zerolinewidth": 2
          },
          "yaxis": {
           "automargin": true,
           "gridcolor": "white",
           "linecolor": "white",
           "ticks": "",
           "title": {
            "standoff": 15
           },
           "zerolinecolor": "white",
           "zerolinewidth": 2
          }
         }
        }
       }
      }
     },
     "metadata": {},
     "output_type": "display_data"
    }
   ],
   "source": [
    "import plotly.express as px\n",
    "\n",
    "fig = px.pie(df2_dep, values='Nom', names='Département')\n",
    "fig.show()"
   ]
  },
  {
   "cell_type": "markdown",
   "metadata": {},
   "source": [
    "### **Syndics**"
   ]
  },
  {
   "cell_type": "markdown",
   "metadata": {},
   "source": [
    "#### Filtrer copros/syndics sur SIRET"
   ]
  },
  {
   "cell_type": "markdown",
   "metadata": {},
   "source": [
    "Récupérer data"
   ]
  },
  {
   "cell_type": "code",
   "execution_count": 803,
   "metadata": {},
   "outputs": [
    {
     "name": "stdout",
     "output_type": "stream",
     "text": [
      "3410086  syndics en France\n"
     ]
    }
   ],
   "source": [
    "# Syndics de france\n",
    "path_syndic = \"data/raw/syndics_france.csv\"\n",
    "s_df = pd.read_csv(path_syndic, dtype={'siret': str})\n",
    "\n",
    "path_syndic2 = \"data/raw/syndics_france2.csv\"\n",
    "s_df2 = pd.read_csv(path_syndic2, dtype={'siret': str})\n",
    "\n",
    "#Pages jaunes \n",
    "path_pages_jaunes = \"data/raw/pages_jaunes.csv\"\n",
    "pj_df = pd.read_csv(path_pages_jaunes, dtype={'siret': str})\n",
    "\n",
    "#Concat syndics de France\n",
    "s_df = pd.concat([s_df, s_df2])\n",
    "print(len(s_df), \" syndics en France\")"
   ]
  },
  {
   "cell_type": "markdown",
   "metadata": {},
   "source": [
    "Filtrer syndics : récupérer les syndics présents dans copros"
   ]
  },
  {
   "cell_type": "code",
   "execution_count": 804,
   "metadata": {},
   "outputs": [
    {
     "name": "stdout",
     "output_type": "stream",
     "text": [
      "4466  SIRETS dans copros\n",
      "4269  syndics dans copros (match sur SIRET)\n",
      "3405817  syndics non trouvés\n"
     ]
    }
   ],
   "source": [
    "#Récupérer SIRET de copros \n",
    "SIRET_copros = copros_df['SIRET_Syndic'].unique().tolist()\n",
    "print(len(SIRET_copros) , \" SIRETS dans copros\")\n",
    "\n",
    "#Filtrer syndics\n",
    "s_df = s_df.loc[s_df['siret'].isin(SIRET_copros)]\n",
    "print(len(s_df), ' syndics dans copros (match sur SIRET)')\n",
    "print(3410086 - len(s_df), ' syndics non trouvés')"
   ]
  },
  {
   "cell_type": "markdown",
   "metadata": {},
   "source": [
    "Marquer dans copros les copros qui ont un match dans syndic "
   ]
  },
  {
   "cell_type": "code",
   "execution_count": 805,
   "metadata": {},
   "outputs": [],
   "source": [
    "#Récupérer SIRET de syndics\n",
    "SIRET_syndics = s_df['siret'].unique().tolist()\n",
    "\n",
    "def tag_copros(x, SIRET_syndics) :\n",
    "    SIRET_syndic = x['SIRET_Syndic'] \n",
    "    if SIRET_syndic in SIRET_syndics :  #Match\n",
    "        return 1 \n",
    "    if SIRET_syndic == \"?\" : #Non connu / Bénévole\n",
    "        return -1 \n",
    "    else :  #Not a match + professionnel\n",
    "        return 0 \n",
    "    \n",
    "#Tag copros with a match  \n",
    "copros_df['Match_SIRET'] = copros_df.apply(lambda x : tag_copros(x, SIRET_syndics), axis=1)\n",
    "copros_df.to_csv('data/clean/copros.csv', index=False)"
   ]
  },
  {
   "cell_type": "code",
   "execution_count": 806,
   "metadata": {},
   "outputs": [
    {
     "data": {
      "text/plain": [
       "31"
      ]
     },
     "execution_count": 806,
     "metadata": {},
     "output_type": "execute_result"
    }
   ],
   "source": [
    "len(copros_df.dtypes)"
   ]
  },
  {
   "cell_type": "markdown",
   "metadata": {},
   "source": [
    "#### Clean Syndics"
   ]
  },
  {
   "cell_type": "code",
   "execution_count": 807,
   "metadata": {},
   "outputs": [],
   "source": [
    "to_keep_syndics = [\n",
    "            'siret',\n",
    "            'dateCreationEtablissement',\n",
    "            'trancheEffectifsEtablissement',\n",
    "            'etablissementSiege',\n",
    "            'complementAdresseEtablissement',\n",
    "            'numeroVoieEtablissement', \n",
    "            'indiceRepetitionEtablissement',\n",
    "            'typeVoieEtablissement', \n",
    "            'libelleVoieEtablissement',\n",
    "            'codePostalEtablissement', \n",
    "            'libelleCommuneEtablissement',\n",
    "            'codeCommuneEtablissement',\n",
    "            'codePaysEtrangerEtablissement',\n",
    "            'activitePrincipaleEtablissement',\n",
    "           ]\n",
    "\n",
    "matching_colonnes_syndics = {\n",
    "            'siret' : \"SIRET\",\n",
    "            'dateCreationEtablissement' : 'Date_Creation',\n",
    "            'trancheEffectifsEtablissement' : 'Effectif',    \n",
    "            'etablissementSiege' : 'Typologie',            #1 -> Siège / 0 -> Etablissement secondaire\n",
    "            'complementAdresseEtablissement' : 'comp',\n",
    "            'numeroVoieEtablissement' : 'num', \n",
    "            'indiceRepetitionEtablissement' : 'rep',\n",
    "            'typeVoieEtablissement' : 'type', \n",
    "            'libelleVoieEtablissement' : 'voie',\n",
    "            'codePostalEtablissement' : 'Code_Postal', \n",
    "            'libelleCommuneEtablissement' : 'Ville',\n",
    "            'codeCommuneEtablissement' : 'Code_Commune',\n",
    "            'codePaysEtrangerEtablissement' : 'Code_Pays',\n",
    "            'activitePrincipaleEtablissement' : 'Code_APE',\n",
    "}"
   ]
  },
  {
   "cell_type": "markdown",
   "metadata": {},
   "source": [
    "Ne garder que les colonnes d'intérêt + renommer "
   ]
  },
  {
   "cell_type": "code",
   "execution_count": 808,
   "metadata": {},
   "outputs": [],
   "source": [
    "s_df = s_df[to_keep_syndics]\n",
    "s_df.rename(matching_colonnes_syndics, axis=1, inplace=True)"
   ]
  },
  {
   "cell_type": "markdown",
   "metadata": {},
   "source": [
    "Adresse"
   ]
  },
  {
   "cell_type": "code",
   "execution_count": 809,
   "metadata": {},
   "outputs": [],
   "source": [
    "# Définir le DataFrame\n",
    "def expand_abbreviations(address):\n",
    "    abbreviations = {\n",
    "        \"av\": \"avenue\",\n",
    "        \"all\": \"allée\",\n",
    "        \"pl\": \"place\",\n",
    "        \"bd\": \"boulevard\",\n",
    "        \"imp\": \"impasse\",\n",
    "        \"chem\": \"chemin\",\n",
    "        \"sq\": \"square\",\n",
    "        \"cte\": \"côte\",\n",
    "        \"prom\": \"promenade\",\n",
    "        \"espl\": \"esplanade\",\n",
    "        \"qu\": \"quai\",\n",
    "        \"pass\": \"passage\",\n",
    "        \"crs\": \"cours\",\n",
    "        \"carref\": \"carrefour\",\n",
    "        \"sent\": \"sentier\",\n",
    "        \"cor\": \"corridor\",\n",
    "        \"pce\": \"place\",\n",
    "        \"rte\": \"route\",\n",
    "        \"rt\": \"route\",\n",
    "        \"roc\": \"rocade\",\n",
    "    }\n",
    "\n",
    "    address = str(address).lower()\n",
    "    if pd.notna(address):\n",
    "        for abbrev, full_form in abbreviations.items():\n",
    "            address = address.replace(abbrev, full_form)\n",
    "    return address.upper()\n",
    "\n",
    "def adresse(x) : \n",
    "    num, rep, type, voie, comp = x['num'], x['rep'], x['type'], x['voie'], x['comp']\n",
    "    adresse = \"\"\n",
    "    for i in [comp, num, rep, type, voie] :\n",
    "        if isinstance(i, float) and math.isnan(i) :\n",
    "            i = \"\"\n",
    "        else : \n",
    "            adresse += i \n",
    "            adresse += \" \"\n",
    "\n",
    "    return adresse\n",
    "\n",
    "s_df['type'] = s_df['type'].apply(expand_abbreviations)\n",
    "s_df['Adresse'] = s_df.apply(lambda x : adresse(x), axis=1)"
   ]
  },
  {
   "cell_type": "markdown",
   "metadata": {},
   "source": [
    "Siège"
   ]
  },
  {
   "cell_type": "code",
   "execution_count": 810,
   "metadata": {},
   "outputs": [],
   "source": [
    "def siege(x) :\n",
    "    if x == 1 :\n",
    "        return \"Siège\"\n",
    "    else :\n",
    "        return \"Etablissement secondaire\"\n",
    "\n",
    "s_df['Typologie'] = s_df['Typologie'].apply(lambda x : siege(x))"
   ]
  },
  {
   "cell_type": "markdown",
   "metadata": {},
   "source": [
    "Code PAYS"
   ]
  },
  {
   "cell_type": "code",
   "execution_count": 811,
   "metadata": {},
   "outputs": [],
   "source": [
    "s_df['Code_Pays'] = s_df['Code_Pays'].fillna('FR')"
   ]
  },
  {
   "cell_type": "markdown",
   "metadata": {},
   "source": [
    "Departement"
   ]
  },
  {
   "cell_type": "code",
   "execution_count": 812,
   "metadata": {},
   "outputs": [],
   "source": [
    "s_df[\"Departement\"] = s_df[\"Code_Postal\"].apply(lambda x : departement(x))\n",
    "s_df[\"Departement\"] = s_df[\"Departement\"].apply(lambda x : 'None' if x == '[N' else x)"
   ]
  },
  {
   "cell_type": "markdown",
   "metadata": {},
   "source": [
    "Nom Syndic "
   ]
  },
  {
   "cell_type": "code",
   "execution_count": 813,
   "metadata": {},
   "outputs": [],
   "source": [
    "nom_syndics = copros_df[['Nom_Syndic', 'SIRET_Syndic']]\n",
    "nom_syndics = nom_syndics.drop_duplicates()\n",
    "s_df = s_df.merge(nom_syndics, left_on='SIRET', right_on='SIRET_Syndic', how='left')"
   ]
  },
  {
   "cell_type": "markdown",
   "metadata": {},
   "source": [
    "Derniers changements + Sauvegarde"
   ]
  },
  {
   "cell_type": "code",
   "execution_count": 814,
   "metadata": {},
   "outputs": [],
   "source": [
    "#s_df = s_df.drop(['comp', 'num', 'rep', 'type', 'voie', 'SIRET_Syndic'], axis=1)\n",
    "s_df.fillna('null', inplace=True)\n",
    "s_df = s_df[['SIRET', 'Nom_Syndic', \n",
    "            'Adresse', 'Code_Postal', 'Ville', 'Code_Commune', 'Code_Pays', 'Departement',\n",
    "            'Code_APE', 'Date_Creation', 'Effectif', 'Typologie']]\n",
    "s_df.to_csv('data/clean/syndics.csv', index=False)"
   ]
  },
  {
   "cell_type": "code",
   "execution_count": 815,
   "metadata": {},
   "outputs": [
    {
     "data": {
      "text/html": [
       "<div>\n",
       "<style scoped>\n",
       "    .dataframe tbody tr th:only-of-type {\n",
       "        vertical-align: middle;\n",
       "    }\n",
       "\n",
       "    .dataframe tbody tr th {\n",
       "        vertical-align: top;\n",
       "    }\n",
       "\n",
       "    .dataframe thead th {\n",
       "        text-align: right;\n",
       "    }\n",
       "</style>\n",
       "<table border=\"1\" class=\"dataframe\">\n",
       "  <thead>\n",
       "    <tr style=\"text-align: right;\">\n",
       "      <th></th>\n",
       "      <th>SIRET</th>\n",
       "      <th>Nom_Syndic</th>\n",
       "      <th>Adresse</th>\n",
       "      <th>Code_Postal</th>\n",
       "      <th>Ville</th>\n",
       "      <th>Code_Commune</th>\n",
       "      <th>Code_Pays</th>\n",
       "      <th>Departement</th>\n",
       "      <th>Code_APE</th>\n",
       "      <th>Date_Creation</th>\n",
       "      <th>Effectif</th>\n",
       "      <th>Typologie</th>\n",
       "    </tr>\n",
       "  </thead>\n",
       "  <tbody>\n",
       "    <tr>\n",
       "      <th>0</th>\n",
       "      <td>27240001100032</td>\n",
       "      <td>OFFICE PUBLIC DE L'HABITAT PERIGORD HABITAT</td>\n",
       "      <td>CRE@VALLEE NORD - CREAPARK BAT 2 212 BOULEVARD...</td>\n",
       "      <td>24660</td>\n",
       "      <td>COULOUNIEIX-CHAMIERS</td>\n",
       "      <td>24138</td>\n",
       "      <td>FR</td>\n",
       "      <td>24</td>\n",
       "      <td>68.20B</td>\n",
       "      <td>2015-06-15</td>\n",
       "      <td>22</td>\n",
       "      <td>Siège</td>\n",
       "    </tr>\n",
       "    <tr>\n",
       "      <th>1</th>\n",
       "      <td>30003136600051</td>\n",
       "      <td>CABINET TAPISSIER &amp; ASSOCIES</td>\n",
       "      <td>1 AVENUE DE CONTADES</td>\n",
       "      <td>49000</td>\n",
       "      <td>ANGERS</td>\n",
       "      <td>49007</td>\n",
       "      <td>FR</td>\n",
       "      <td>49</td>\n",
       "      <td>68.31Z</td>\n",
       "      <td>2023-03-13</td>\n",
       "      <td>null</td>\n",
       "      <td>Siège</td>\n",
       "    </tr>\n",
       "    <tr>\n",
       "      <th>2</th>\n",
       "      <td>30007257600014</td>\n",
       "      <td>AGENCE SECKLER</td>\n",
       "      <td>9 AVENUE FOCH</td>\n",
       "      <td>68000</td>\n",
       "      <td>COLMAR</td>\n",
       "      <td>68066</td>\n",
       "      <td>FR</td>\n",
       "      <td>68</td>\n",
       "      <td>68.31Z</td>\n",
       "      <td>1974-01-01</td>\n",
       "      <td>11</td>\n",
       "      <td>Siège</td>\n",
       "    </tr>\n",
       "    <tr>\n",
       "      <th>3</th>\n",
       "      <td>30016560200024</td>\n",
       "      <td>LOCATRIM CASSIS</td>\n",
       "      <td>2 RUE ADOLPHE THIERS</td>\n",
       "      <td>13260</td>\n",
       "      <td>CASSIS</td>\n",
       "      <td>13022</td>\n",
       "      <td>FR</td>\n",
       "      <td>13</td>\n",
       "      <td>68.31Z</td>\n",
       "      <td>1989-04-10</td>\n",
       "      <td>02</td>\n",
       "      <td>Siège</td>\n",
       "    </tr>\n",
       "    <tr>\n",
       "      <th>4</th>\n",
       "      <td>30017936300050</td>\n",
       "      <td>REGIE MIALON</td>\n",
       "      <td>47 - 49 47 AVENUE DES ETATS UNIS</td>\n",
       "      <td>63000</td>\n",
       "      <td>CLERMONT-FERRAND</td>\n",
       "      <td>63113</td>\n",
       "      <td>FR</td>\n",
       "      <td>63</td>\n",
       "      <td>68.31Z</td>\n",
       "      <td>2009-11-15</td>\n",
       "      <td>12</td>\n",
       "      <td>Siège</td>\n",
       "    </tr>\n",
       "    <tr>\n",
       "      <th>...</th>\n",
       "      <td>...</td>\n",
       "      <td>...</td>\n",
       "      <td>...</td>\n",
       "      <td>...</td>\n",
       "      <td>...</td>\n",
       "      <td>...</td>\n",
       "      <td>...</td>\n",
       "      <td>...</td>\n",
       "      <td>...</td>\n",
       "      <td>...</td>\n",
       "      <td>...</td>\n",
       "      <td>...</td>\n",
       "    </tr>\n",
       "    <tr>\n",
       "      <th>4264</th>\n",
       "      <td>48127755600017</td>\n",
       "      <td>SIMARD*/ISABELLE  /</td>\n",
       "      <td>56 AVENUE DE LA REPUBLIQUE</td>\n",
       "      <td>71210</td>\n",
       "      <td>MONTCHANIN</td>\n",
       "      <td>71310</td>\n",
       "      <td>FR</td>\n",
       "      <td>71</td>\n",
       "      <td>69.10Z</td>\n",
       "      <td>2005-02-07</td>\n",
       "      <td>NN</td>\n",
       "      <td>Siège</td>\n",
       "    </tr>\n",
       "    <tr>\n",
       "      <th>4265</th>\n",
       "      <td>47889558400025</td>\n",
       "      <td>SELARL LEGRAND ET ANTONIOTTI</td>\n",
       "      <td>BAT B RN 197 RES LES DOMAINES DE L'ILE ROUSSE</td>\n",
       "      <td>20220</td>\n",
       "      <td>L'ILE ROUSSE</td>\n",
       "      <td>2B134</td>\n",
       "      <td>FR</td>\n",
       "      <td>20</td>\n",
       "      <td>71.12A</td>\n",
       "      <td>2013-06-25</td>\n",
       "      <td>02</td>\n",
       "      <td>Siège</td>\n",
       "    </tr>\n",
       "    <tr>\n",
       "      <th>4266</th>\n",
       "      <td>50392965500028</td>\n",
       "      <td>JG EXPERTISE IMMOBILIER PATRIMOINE FINANCE</td>\n",
       "      <td>IMMEUBLE LE MERCURE BATIMENT C 48 CHE DE L HOM...</td>\n",
       "      <td>30900</td>\n",
       "      <td>NIMES</td>\n",
       "      <td>30189</td>\n",
       "      <td>FR</td>\n",
       "      <td>30</td>\n",
       "      <td>69.10Z</td>\n",
       "      <td>2014-04-07</td>\n",
       "      <td>NN</td>\n",
       "      <td>Siège</td>\n",
       "    </tr>\n",
       "    <tr>\n",
       "      <th>4267</th>\n",
       "      <td>39371821800018</td>\n",
       "      <td>SCP JUNQUA LAMARQUE &amp; ASSOCIES</td>\n",
       "      <td>CENTRE JORLIS-ALLIANCE 3 RUE DU PONT DE L AVEU...</td>\n",
       "      <td>64600</td>\n",
       "      <td>ANGLET</td>\n",
       "      <td>64024</td>\n",
       "      <td>FR</td>\n",
       "      <td>64</td>\n",
       "      <td>69.10Z</td>\n",
       "      <td>1994-01-01</td>\n",
       "      <td>02</td>\n",
       "      <td>Siège</td>\n",
       "    </tr>\n",
       "    <tr>\n",
       "      <th>4268</th>\n",
       "      <td>39381579000034</td>\n",
       "      <td>CABINET CLAUDE ANDRES</td>\n",
       "      <td>-BATIMENT LE GALION- 1 RUE DE PULLY</td>\n",
       "      <td>67210</td>\n",
       "      <td>OBERNAI</td>\n",
       "      <td>67348</td>\n",
       "      <td>FR</td>\n",
       "      <td>67</td>\n",
       "      <td>71.12A</td>\n",
       "      <td>2016-05-16</td>\n",
       "      <td>11</td>\n",
       "      <td>Siège</td>\n",
       "    </tr>\n",
       "  </tbody>\n",
       "</table>\n",
       "<p>4269 rows × 12 columns</p>\n",
       "</div>"
      ],
      "text/plain": [
       "               SIRET                                   Nom_Syndic  \\\n",
       "0     27240001100032  OFFICE PUBLIC DE L'HABITAT PERIGORD HABITAT   \n",
       "1     30003136600051                 CABINET TAPISSIER & ASSOCIES   \n",
       "2     30007257600014                               AGENCE SECKLER   \n",
       "3     30016560200024                              LOCATRIM CASSIS   \n",
       "4     30017936300050                                 REGIE MIALON   \n",
       "...              ...                                          ...   \n",
       "4264  48127755600017                          SIMARD*/ISABELLE  /   \n",
       "4265  47889558400025                 SELARL LEGRAND ET ANTONIOTTI   \n",
       "4266  50392965500028   JG EXPERTISE IMMOBILIER PATRIMOINE FINANCE   \n",
       "4267  39371821800018               SCP JUNQUA LAMARQUE & ASSOCIES   \n",
       "4268  39381579000034                        CABINET CLAUDE ANDRES   \n",
       "\n",
       "                                                Adresse Code_Postal  \\\n",
       "0     CRE@VALLEE NORD - CREAPARK BAT 2 212 BOULEVARD...       24660   \n",
       "1                                 1 AVENUE DE CONTADES        49000   \n",
       "2                                        9 AVENUE FOCH        68000   \n",
       "3                                 2 RUE ADOLPHE THIERS        13260   \n",
       "4                     47 - 49 47 AVENUE DES ETATS UNIS        63000   \n",
       "...                                                 ...         ...   \n",
       "4264                        56 AVENUE DE LA REPUBLIQUE        71210   \n",
       "4265     BAT B RN 197 RES LES DOMAINES DE L'ILE ROUSSE        20220   \n",
       "4266  IMMEUBLE LE MERCURE BATIMENT C 48 CHE DE L HOM...       30900   \n",
       "4267  CENTRE JORLIS-ALLIANCE 3 RUE DU PONT DE L AVEU...       64600   \n",
       "4268               -BATIMENT LE GALION- 1 RUE DE PULLY        67210   \n",
       "\n",
       "                     Ville Code_Commune Code_Pays Departement Code_APE  \\\n",
       "0     COULOUNIEIX-CHAMIERS        24138        FR          24   68.20B   \n",
       "1                   ANGERS        49007        FR          49   68.31Z   \n",
       "2                   COLMAR        68066        FR          68   68.31Z   \n",
       "3                   CASSIS        13022        FR          13   68.31Z   \n",
       "4         CLERMONT-FERRAND        63113        FR          63   68.31Z   \n",
       "...                    ...          ...       ...         ...      ...   \n",
       "4264            MONTCHANIN        71310        FR          71   69.10Z   \n",
       "4265          L'ILE ROUSSE        2B134        FR          20   71.12A   \n",
       "4266                 NIMES        30189        FR          30   69.10Z   \n",
       "4267                ANGLET        64024        FR          64   69.10Z   \n",
       "4268               OBERNAI        67348        FR          67   71.12A   \n",
       "\n",
       "     Date_Creation Effectif Typologie  \n",
       "0       2015-06-15       22     Siège  \n",
       "1       2023-03-13     null     Siège  \n",
       "2       1974-01-01       11     Siège  \n",
       "3       1989-04-10       02     Siège  \n",
       "4       2009-11-15       12     Siège  \n",
       "...            ...      ...       ...  \n",
       "4264    2005-02-07       NN     Siège  \n",
       "4265    2013-06-25       02     Siège  \n",
       "4266    2014-04-07       NN     Siège  \n",
       "4267    1994-01-01       02     Siège  \n",
       "4268    2016-05-16       11     Siège  \n",
       "\n",
       "[4269 rows x 12 columns]"
      ]
     },
     "execution_count": 815,
     "metadata": {},
     "output_type": "execute_result"
    }
   ],
   "source": [
    "s_df"
   ]
  },
  {
   "cell_type": "markdown",
   "metadata": {},
   "source": [
    "#### Pages Jaunes"
   ]
  },
  {
   "cell_type": "code",
   "execution_count": 816,
   "metadata": {},
   "outputs": [],
   "source": [
    "pj_df = pd.read_csv(path_pages_jaunes, dtype={'siret': str})"
   ]
  },
  {
   "cell_type": "markdown",
   "metadata": {},
   "source": [
    "SIRET/Code NAF/ Effectic / Typologie"
   ]
  },
  {
   "cell_type": "code",
   "execution_count": 817,
   "metadata": {},
   "outputs": [],
   "source": [
    "def extract_SIRET(x) :\n",
    "    x = x.replace(':', ',').replace('{', '').replace('}', '').replace('\\'', '').replace('\\'', '').replace('\"', \"\").split(',')\n",
    "    if x[0] == 'SIRET' :\n",
    "        return x[1].replace(' ', '')\n",
    "\n",
    "def extract_NAF(x) :\n",
    "    x = x.replace(':', ',').replace('{', '').replace('}', '').replace('\\'', '').replace('\\'', '').replace('\"', \"\").split(',')\n",
    "    if len(x) >= 4 and x[2] == ' Code NAF' :\n",
    "        return x[3].replace(' ', '')\n",
    "    \n",
    "def extract_effectif(x) :\n",
    "    x = x.replace(':', ',').replace('{', '').replace('}', '').replace('\\'', '').replace('\\'', '').replace('\"', \"\").split(',')\n",
    "    if len(x) >= 4 and x[4] == ' Effectif de létablissement' :\n",
    "        return x[5]\n",
    "\n",
    "def extract_typologie(x) : \n",
    "    x = x.replace(':', ',').replace('{', '').replace('}', '').replace('\\'', '').replace('\\'', '').replace('\"', \"\").split(',')\n",
    "    if len(x) >= 8 and x[6] == ' Typologie de létablissement' :\n",
    "        return x[7]\n",
    "    elif len(x) >= 6 and x[4] == ' Typologie de létablissement' :\n",
    "        return x[5]\n",
    "\n",
    "pj_df['SIRET'] = pj_df[\"get_établissement\"].apply(extract_SIRET)\n",
    "pj_df['Code_APE'] = pj_df[\"get_établissement\"].apply(extract_NAF)\n",
    "pj_df['Effectif'] = pj_df[\"get_établissement\"].apply(extract_effectif)\n",
    "pj_df['Typologie'] = pj_df[\"get_établissement\"].apply(extract_typologie)\n",
    "\n",
    "pj_df.drop(['get_établissement'], axis=1, inplace=True)"
   ]
  },
  {
   "cell_type": "markdown",
   "metadata": {},
   "source": [
    "Adresse"
   ]
  },
  {
   "cell_type": "code",
   "execution_count": 818,
   "metadata": {},
   "outputs": [],
   "source": [
    "pj_df[[\"Adresse\", \"Code_Postal\", \"Ville\"]] = pj_df[\"location\"].apply(extract_zipcode_city).apply(pd.Series)\n",
    "pj_df.drop(\"location\", axis=1, inplace=True)\n",
    "pj_df[\"Département\"] = pj_df[\"Code_Postal\"].apply(lambda x : x[:2] if x is not None else None)\n",
    "pj_df['Code_Pays'] = 'FR'\n",
    "\n",
    "pj_df.drop(\"contractor_link\", axis=1, inplace=True)"
   ]
  },
  {
   "cell_type": "markdown",
   "metadata": {},
   "source": [
    "Horaires"
   ]
  },
  {
   "cell_type": "code",
   "execution_count": 819,
   "metadata": {},
   "outputs": [],
   "source": [
    "#Extract opening and closing hours \n",
    "days = [\"Lundi\", \"Mardi\", \"Mercredi\", \"Jeudi\", \"Vendredi\"]\n",
    "\n",
    "horaires_df = pj_df[[\"SIRET\", \"information\"]]\n",
    "\n",
    "horaires_df[days] = horaires_df[\"information\"].apply(extract_information).apply(pd.Series)\n",
    "\n",
    "#Transform time strings to time objects\n",
    "for day in days : \n",
    "    horaires_df[day] = horaires_df[day].apply(str2hours)\n",
    "\n",
    "horaires_df = horaires_df.drop(\"information\", axis=1)\n",
    "\n",
    "to_keep = [\"SIRET\"]\n",
    "\n",
    "for j in ['Lundi', 'Mardi', 'Mercredi', 'Jeudi', 'Vendredi'] :\n",
    "    debut = j + ' Début'\n",
    "    fin = j + ' Fin'\n",
    "    to_keep.append(debut)\n",
    "    to_keep.append(fin)\n",
    "\n",
    "    horaires_df[debut] = horaires_df[j].apply(lambda x : x[0])\n",
    "    horaires_df[fin] = horaires_df[j].apply(lambda x : x[1])\n",
    "\n",
    "horaires_df = horaires_df.fillna('fermé')\n",
    "\n",
    "horaires_df = horaires_df[to_keep]\n",
    "\n",
    "new_df = pd.DataFrame(columns=[\"SIRET_Syndic\", \"Jour_Semaine\", \"Heure_Ouverture\", \"Heure_Fermeture\"])\n",
    "\n",
    "for index, row in horaires_df.iterrows() :\n",
    "    SIRET = row[\"SIRET\"]\n",
    "    for j in ['Lundi', 'Mardi', 'Mercredi', 'Jeudi', 'Vendredi'] :\n",
    "        debut = j + ' Début'\n",
    "        fin = j + ' Fin'\n",
    "        new_df = new_df.append({\"SIRET_Syndic\" : SIRET, \"Jour_Semaine\" : j, \"Heure_Ouverture\" : row[debut], \"Heure_Fermeture\" : row[fin]}, ignore_index=True)\n",
    "\n",
    "new_df.to_csv(\"data/clean/horaires_syndics.csv\", index=False)\n",
    "\n",
    "pj_df = pj_df.drop('information', axis=1)"
   ]
  },
  {
   "cell_type": "markdown",
   "metadata": {},
   "source": [
    "Présentation "
   ]
  },
  {
   "cell_type": "code",
   "execution_count": 820,
   "metadata": {},
   "outputs": [],
   "source": [
    "def clean_presentation(x) :\n",
    "    x = x.replace('[', '').replace(']', '').split(',')\n",
    "    new_x = []\n",
    "\n",
    "    for i in x :  \n",
    "        cpt_deb = 0 \n",
    "        cond_deb = True\n",
    "        while cond_deb : \n",
    "            if len(i) > 0 and (i[0] == \" \" or i[0] == \"'\" or i[0] == '\"'):\n",
    "                i = i[1:]\n",
    "            else : \n",
    "                cond_deb = False\n",
    "            cpt_deb += 1\n",
    "        cpt_end = 0 \n",
    "        cond_end = True\n",
    "        while cond_end : \n",
    "            if len(i) > 0 and (i[-1] == \" \" or i[-1] == \"'\" or i[-1] == '\"'):\n",
    "                i = i[:-1]\n",
    "            else : \n",
    "                cond_end = False\n",
    "            cpt_end += 1\n",
    "        new_x.append(i.lower())\n",
    "\n",
    "    return new_x\n",
    "\n",
    "#Clean presentation\n",
    "df_tags = pj_df[['SIRET', 'presentation']]\n",
    "df_tags[\"presentation\"] = df_tags[\"presentation\"].apply(lambda x : clean_presentation(x))\n",
    "df_tags = df_tags.explode(\"presentation\")\n",
    "\n",
    "#Creation de la table des tags / ID_tags \n",
    "tags = df_tags[\"presentation\"].unique().tolist()\n",
    "tags = [x for x in tags if x != '']\n",
    "tags = list(set(tags))\n",
    "\n",
    "tags_id_tags = pd.DataFrame(columns=[\"Service\"])\n",
    "tags_id_tags[\"Service\"] = tags\n",
    "tags_id_tags['ID_Service'] = tags_id_tags.index\n",
    "\n",
    "tags_id_tags.to_csv(\"data/clean/tags.csv\")\n",
    "\n",
    "#Creation de la table des tags / ID_syndics\n",
    "tags_id_tags_dict = dict(zip(tags_id_tags[\"Service\"], tags_id_tags[\"ID_Service\"]))\n",
    "df_tags.drop(df_tags[df_tags['presentation'] == ''].index, inplace=True)\n",
    "df_tags['presentation'] = df_tags['presentation'].map(tags_id_tags_dict)\n",
    "df_tags.columns = ['SIRET_Syndic', 'ID_Service']\n",
    "\n",
    "df_tags.to_csv(\"data/clean/tags_syndics.csv\", index=False)\n",
    "\n",
    "pj_df = pj_df.drop('presentation', axis=1)"
   ]
  },
  {
   "cell_type": "markdown",
   "metadata": {},
   "source": [
    "Forme juridique / Création d'entreprise / Effectif / Autres dénominations"
   ]
  },
  {
   "cell_type": "code",
   "execution_count": 821,
   "metadata": {},
   "outputs": [],
   "source": [
    "# Fonction pour extraire la valeur d'une clé en toute sécurité\n",
    "def extract_key(data, key):\n",
    "    try:\n",
    "        return eval(data)[key]\n",
    "    except (KeyError, TypeError):\n",
    "        return None\n",
    "\n",
    "# Fonction pour convertir la date en format correct\n",
    "def convert_date(x):\n",
    "    try:\n",
    "        x = x.split(\" \")\n",
    "        jour = x[0]\n",
    "        if len(jour) == 1 :\n",
    "            jour = \"0\" + jour\n",
    "\n",
    "        mois = x[1] #janvier\n",
    "        annee = x[2]\n",
    "\n",
    "        dict_mois = {\"janvier\": \"01\",\n",
    "        \"février\": \"02\",\n",
    "        \"mars\": \"03\",\n",
    "        \"avril\": \"04\",\n",
    "        \"mai\": \"05\",\n",
    "        \"juin\": \"06\",\n",
    "        \"juillet\": \"07\",\n",
    "        \"août\": \"08\",\n",
    "        \"septembre\": \"09\",\n",
    "        \"octobre\": \"10\",\n",
    "        \"novembre\": \"11\",\n",
    "        \"décembre\": \"12\"}\n",
    "\n",
    "        mois_numero = dict_mois[mois]\n",
    "\n",
    "        date = annee + \"-\" + mois_numero + \"-\" + jour\n",
    "        return date\n",
    "    except :\n",
    "        return None\n",
    "        \n",
    "# Fonction pour extraire le maximum de la fourchette d'effectif\n",
    "def extract_effectif(effectif_str):\n",
    "    try:\n",
    "        if effectif_str is not None:\n",
    "            return max(map(str, effectif_str.split(' à ')))\n",
    "        else:\n",
    "            return None\n",
    "    except (ValueError, TypeError):\n",
    "        return None\n",
    "    \n",
    "# Fonction pour séparer les numéros de téléphone\n",
    "def separer_numeros(telephones):\n",
    "    telephones = telephones.strip(\"[]\")  # Supprimer les crochets\n",
    "    numeros_separes = telephones.replace(\"'\", \"\").replace(\" \", \"\").split(',')\n",
    "    # Remplir les colonnes Tel_1 à Tel_6 avec les numéros séparés\n",
    "    result = {}\n",
    "    for i in range(6):\n",
    "        if i < len(numeros_separes):\n",
    "            result[f'Tel_{i+1}'] = numeros_separes[i]\n",
    "        else:\n",
    "            result[f'Tel_{i+1}'] = None\n",
    "    return result\n",
    "\n",
    "pj_df[\"Effectif\"] = pj_df['get_entreprise'].apply(lambda x: extract_effectif(extract_key(x, \"Effectif de l'entreprise\")))\n",
    "pj_df[\"Date_Creation\"] = pj_df['get_entreprise'].apply(lambda x: convert_date(extract_key(x, \"Création d'entreprise\")))\n",
    "pj_df['Autre_Denomination'] = pj_df['get_entreprise'].apply(lambda x: extract_key(x, 'Autres dénominations'))\n",
    "pj_df['Forme_Juridique_INSEE'] = pj_df['get_entreprise'].apply(lambda x: extract_key(x, 'Forme juridique'))\n",
    "\n",
    "pj_df = pj_df.drop(\"get_entreprise\", axis=1)"
   ]
  },
  {
   "cell_type": "markdown",
   "metadata": {},
   "source": [
    "Sites"
   ]
  },
  {
   "cell_type": "code",
   "execution_count": 822,
   "metadata": {},
   "outputs": [],
   "source": [
    "def sites(x) : \n",
    "    x = x.replace(\"[\", \"\").replace(\"]\", \"\").replace(\"'\", \"\").replace('\"', \"\").split(\",\")\n",
    "    new_x = []\n",
    "    for i in x : \n",
    "        if i[0] == \" \" :\n",
    "            i = i[1:]\n",
    "        if i != 'None' : \n",
    "            new_x.append(i)\n",
    "        else : \n",
    "            new_x.append('')\n",
    "    return new_x[0], new_x[1]\n",
    "\n",
    "pj_df['URL_Website'], pj_df['URL_Solocal']= zip(*pj_df['sites'].map(sites))\n",
    "pj_df = pj_df.drop(['sites', 'link'], axis=1)\n",
    "\n",
    "pj_df.rename(columns={\"url\" : \"URL_PagesJaunes\"}, inplace=True)"
   ]
  },
  {
   "cell_type": "markdown",
   "metadata": {},
   "source": [
    "Téléphone"
   ]
  },
  {
   "cell_type": "code",
   "execution_count": 823,
   "metadata": {},
   "outputs": [],
   "source": [
    "def telephone(x) : \n",
    "    x = x.replace(\"[\", \"\").replace(\"]\", \"\").replace(\"'\", \"\").replace('\"', \"\").replace(' ', '').split(\",\")\n",
    "    x = ' '.join(x)\n",
    "    return x \n",
    "\n",
    "pj_df['Telephones'] = pj_df['contractor_phone'].apply(telephone)\n",
    "pj_df = pj_df.drop(['contractor_phone', 'contact'], axis=1)"
   ]
  },
  {
   "cell_type": "markdown",
   "metadata": {},
   "source": [
    "Linkedin"
   ]
  },
  {
   "cell_type": "code",
   "execution_count": 824,
   "metadata": {},
   "outputs": [],
   "source": [
    "pj_df['URL_Linkedin_Entreprise'] = ''\n",
    "pj_df['ID_Linkedin_Entreprise'] = ''"
   ]
  },
  {
   "cell_type": "markdown",
   "metadata": {},
   "source": [
    "Rename and reorder"
   ]
  },
  {
   "cell_type": "code",
   "execution_count": 825,
   "metadata": {},
   "outputs": [],
   "source": [
    "pj_df = pj_df.rename(columns={'title': 'Nom', \n",
    "                              'sub_title': 'Catégorie', \n",
    "                              'description' : 'Description', \n",
    "                              'Département' : 'Departement'}) \n",
    "\n",
    "col_pj = [\n",
    "    \"SIRET\",\n",
    "    \"Nom\",\n",
    "    \"Autre_Denomination\",\n",
    "\n",
    "    \"Catégorie\",\n",
    "    \"Description\",\n",
    "\n",
    "    \"Adresse\",\n",
    "    \"Code_Postal\",\n",
    "    \"Ville\",\n",
    "    \"Departement\",\n",
    "    \"Code_Pays\",\n",
    "\n",
    "    \"Telephones\",\n",
    "\n",
    "    \"Effectif\",\n",
    "    \"Date_Creation\",\n",
    "    \"Forme_Juridique_INSEE\",\n",
    "    \"Code_APE\",\n",
    "    \"Typologie\",\n",
    "\n",
    "    \"URL_PagesJaunes\",\n",
    "    \"URL_Website\",\n",
    "    \"URL_Solocal\",\n",
    "\n",
    "    \"URL_Linkedin_Entreprise\",\n",
    "    \"ID_Linkedin_Entreprise\",\n",
    "]\n",
    "\n",
    "pj_df = pj_df[col_pj]\n"
   ]
  },
  {
   "cell_type": "markdown",
   "metadata": {},
   "source": [
    "Filter"
   ]
  },
  {
   "cell_type": "code",
   "execution_count": 826,
   "metadata": {},
   "outputs": [
    {
     "name": "stdout",
     "output_type": "stream",
     "text": [
      "1403\n",
      "228 1175\n"
     ]
    }
   ],
   "source": [
    "start = len(pj_df)\n",
    "print(start)\n",
    "\n",
    "#Only keep Rows where SIRET in copros \n",
    "pj_df = pj_df.loc[pj_df['SIRET'].isin(SIRET_copros)]\n",
    "pj_df.to_csv('data/clean/pages_jaunes.csv', index=False)\n",
    "\n",
    "print(len(pj_df), start - len(pj_df))"
   ]
  },
  {
   "cell_type": "code",
   "execution_count": 827,
   "metadata": {},
   "outputs": [
    {
     "name": "stdout",
     "output_type": "stream",
     "text": [
      "RNC : 4466,  Syndics : 4269, Pj : 228\n",
      "En commun syndics + PJ :  225\n",
      "Nombre total de syndics trouvés :  4272 / 4466\n",
      "Il en manque :  194\n"
     ]
    }
   ],
   "source": [
    "SIRET_copros = copros_df['SIRET_Syndic'].unique().tolist()\n",
    "SIRET_pj = pj_df['SIRET'].unique().tolist()\n",
    "SIRET_syndics = s_df['SIRET'].unique().tolist()\n",
    "\n",
    "print(f\"RNC : {len(SIRET_copros)},  Syndics : {len(SIRET_syndics)}, Pj : {len(SIRET_pj)}\")\n",
    "\n",
    "print(\"En commun syndics + PJ : \", len(set(SIRET_syndics).intersection(set(SIRET_pj))))\n",
    "\n",
    "print('Nombre total de syndics trouvés : ', len(set(SIRET_copros).intersection(set(SIRET_syndics).union(set(SIRET_pj)))), '/', len(SIRET_copros))\n",
    "\n",
    "print(\"Il en manque : \", len(SIRET_copros) - len(set(SIRET_copros).intersection(set(SIRET_syndics).union(set(SIRET_pj)))))"
   ]
  },
  {
   "cell_type": "markdown",
   "metadata": {},
   "source": [
    "### Merge syndics + Pages jaunes"
   ]
  },
  {
   "cell_type": "code",
   "execution_count": 828,
   "metadata": {},
   "outputs": [
    {
     "data": {
      "text/html": [
       "<div>\n",
       "<style scoped>\n",
       "    .dataframe tbody tr th:only-of-type {\n",
       "        vertical-align: middle;\n",
       "    }\n",
       "\n",
       "    .dataframe tbody tr th {\n",
       "        vertical-align: top;\n",
       "    }\n",
       "\n",
       "    .dataframe thead th {\n",
       "        text-align: right;\n",
       "    }\n",
       "</style>\n",
       "<table border=\"1\" class=\"dataframe\">\n",
       "  <thead>\n",
       "    <tr style=\"text-align: right;\">\n",
       "      <th></th>\n",
       "      <th>SIRET</th>\n",
       "      <th>Nom_Syndic</th>\n",
       "      <th>Adresse</th>\n",
       "      <th>Code_Postal</th>\n",
       "      <th>Ville</th>\n",
       "      <th>Code_Commune</th>\n",
       "      <th>Code_Pays</th>\n",
       "      <th>Departement</th>\n",
       "      <th>Code_APE</th>\n",
       "      <th>Date_Creation</th>\n",
       "      <th>Effectif</th>\n",
       "      <th>Typologie</th>\n",
       "    </tr>\n",
       "  </thead>\n",
       "  <tbody>\n",
       "    <tr>\n",
       "      <th>0</th>\n",
       "      <td>27240001100032</td>\n",
       "      <td>OFFICE PUBLIC DE L'HABITAT PERIGORD HABITAT</td>\n",
       "      <td>CRE@VALLEE NORD - CREAPARK BAT 2 212 BOULEVARD...</td>\n",
       "      <td>24660</td>\n",
       "      <td>COULOUNIEIX-CHAMIERS</td>\n",
       "      <td>24138</td>\n",
       "      <td>FR</td>\n",
       "      <td>24</td>\n",
       "      <td>68.20B</td>\n",
       "      <td>2015-06-15</td>\n",
       "      <td>22</td>\n",
       "      <td>Siège</td>\n",
       "    </tr>\n",
       "    <tr>\n",
       "      <th>1</th>\n",
       "      <td>30003136600051</td>\n",
       "      <td>CABINET TAPISSIER &amp; ASSOCIES</td>\n",
       "      <td>1 AVENUE DE CONTADES</td>\n",
       "      <td>49000</td>\n",
       "      <td>ANGERS</td>\n",
       "      <td>49007</td>\n",
       "      <td>FR</td>\n",
       "      <td>49</td>\n",
       "      <td>68.31Z</td>\n",
       "      <td>2023-03-13</td>\n",
       "      <td>NaN</td>\n",
       "      <td>Siège</td>\n",
       "    </tr>\n",
       "  </tbody>\n",
       "</table>\n",
       "</div>"
      ],
      "text/plain": [
       "            SIRET                                   Nom_Syndic  \\\n",
       "0  27240001100032  OFFICE PUBLIC DE L'HABITAT PERIGORD HABITAT   \n",
       "1  30003136600051                 CABINET TAPISSIER & ASSOCIES   \n",
       "\n",
       "                                             Adresse Code_Postal  \\\n",
       "0  CRE@VALLEE NORD - CREAPARK BAT 2 212 BOULEVARD...       24660   \n",
       "1                              1 AVENUE DE CONTADES        49000   \n",
       "\n",
       "                  Ville Code_Commune Code_Pays Departement Code_APE  \\\n",
       "0  COULOUNIEIX-CHAMIERS        24138        FR          24   68.20B   \n",
       "1                ANGERS        49007        FR          49   68.31Z   \n",
       "\n",
       "  Date_Creation Effectif Typologie  \n",
       "0    2015-06-15       22     Siège  \n",
       "1    2023-03-13      NaN     Siège  "
      ]
     },
     "execution_count": 828,
     "metadata": {},
     "output_type": "execute_result"
    }
   ],
   "source": [
    "syndics = pd.read_csv(\"data/clean/syndics.csv\", dtype={'SIRET': str})\n",
    "pj = pd.read_csv(\"data/clean/pages_jaunes.csv\", dtype={'SIRET': str})\n",
    "\n",
    "\n",
    "syndics.head(2)"
   ]
  },
  {
   "cell_type": "code",
   "execution_count": 829,
   "metadata": {},
   "outputs": [
    {
     "data": {
      "text/html": [
       "<div>\n",
       "<style scoped>\n",
       "    .dataframe tbody tr th:only-of-type {\n",
       "        vertical-align: middle;\n",
       "    }\n",
       "\n",
       "    .dataframe tbody tr th {\n",
       "        vertical-align: top;\n",
       "    }\n",
       "\n",
       "    .dataframe thead th {\n",
       "        text-align: right;\n",
       "    }\n",
       "</style>\n",
       "<table border=\"1\" class=\"dataframe\">\n",
       "  <thead>\n",
       "    <tr style=\"text-align: right;\">\n",
       "      <th></th>\n",
       "      <th>SIRET</th>\n",
       "      <th>Nom</th>\n",
       "      <th>Autre_Denomination</th>\n",
       "      <th>Catégorie</th>\n",
       "      <th>Description</th>\n",
       "      <th>Adresse</th>\n",
       "      <th>Code_Postal</th>\n",
       "      <th>Ville</th>\n",
       "      <th>Departement</th>\n",
       "      <th>Code_Pays</th>\n",
       "      <th>...</th>\n",
       "      <th>Effectif</th>\n",
       "      <th>Date_Creation</th>\n",
       "      <th>Forme_Juridique_INSEE</th>\n",
       "      <th>Code_APE</th>\n",
       "      <th>Typologie</th>\n",
       "      <th>URL_PagesJaunes</th>\n",
       "      <th>URL_Website</th>\n",
       "      <th>URL_Solocal</th>\n",
       "      <th>URL_Linkedin_Entreprise</th>\n",
       "      <th>ID_Linkedin_Entreprise</th>\n",
       "    </tr>\n",
       "  </thead>\n",
       "  <tbody>\n",
       "    <tr>\n",
       "      <th>0</th>\n",
       "      <td>31180020500024</td>\n",
       "      <td>C.G.I Le Goff</td>\n",
       "      <td>Le Goff Bernard Cabinet CABINET GEST IMMOB B Y...</td>\n",
       "      <td>Syndics de copropriétés</td>\n",
       "      <td>Notre cabinet vous propose son expertise dans ...</td>\n",
       "      <td>5 boulevard Edgar Quinet</td>\n",
       "      <td>92700</td>\n",
       "      <td>Colombes</td>\n",
       "      <td>92</td>\n",
       "      <td>FR</td>\n",
       "      <td>...</td>\n",
       "      <td>19 salariés</td>\n",
       "      <td>1980-01-01</td>\n",
       "      <td>5710.0</td>\n",
       "      <td>6832A</td>\n",
       "      <td>Siège</td>\n",
       "      <td>https://www.pagesjaunes.fr/pros/00091222</td>\n",
       "      <td>www.cgilegoff.fr</td>\n",
       "      <td>http://cabinetgestimmobbylegoff.site-solocal.com</td>\n",
       "      <td>NaN</td>\n",
       "      <td>NaN</td>\n",
       "    </tr>\n",
       "    <tr>\n",
       "      <th>1</th>\n",
       "      <td>49430420700025</td>\n",
       "      <td>Excellence Gestion</td>\n",
       "      <td>NaN</td>\n",
       "      <td>Administrateurs de biens</td>\n",
       "      <td>Notre société met à votre disposition une équi...</td>\n",
       "      <td>15 rue Chante Coq</td>\n",
       "      <td>92800</td>\n",
       "      <td>Puteaux</td>\n",
       "      <td>92</td>\n",
       "      <td>FR</td>\n",
       "      <td>...</td>\n",
       "      <td>5 salariés</td>\n",
       "      <td>2007-01-22</td>\n",
       "      <td>5710.0</td>\n",
       "      <td>6832A</td>\n",
       "      <td>Siège</td>\n",
       "      <td>https://www.pagesjaunes.fr/pros/53322784</td>\n",
       "      <td>www.excellencegestion.fr</td>\n",
       "      <td>NaN</td>\n",
       "      <td>NaN</td>\n",
       "      <td>NaN</td>\n",
       "    </tr>\n",
       "  </tbody>\n",
       "</table>\n",
       "<p>2 rows × 21 columns</p>\n",
       "</div>"
      ],
      "text/plain": [
       "            SIRET                 Nom  \\\n",
       "0  31180020500024       C.G.I Le Goff   \n",
       "1  49430420700025  Excellence Gestion   \n",
       "\n",
       "                                  Autre_Denomination  \\\n",
       "0  Le Goff Bernard Cabinet CABINET GEST IMMOB B Y...   \n",
       "1                                                NaN   \n",
       "\n",
       "                  Catégorie  \\\n",
       "0   Syndics de copropriétés   \n",
       "1  Administrateurs de biens   \n",
       "\n",
       "                                         Description  \\\n",
       "0  Notre cabinet vous propose son expertise dans ...   \n",
       "1  Notre société met à votre disposition une équi...   \n",
       "\n",
       "                     Adresse  Code_Postal     Ville  Departement Code_Pays  \\\n",
       "0   5 boulevard Edgar Quinet        92700  Colombes           92        FR   \n",
       "1          15 rue Chante Coq        92800   Puteaux           92        FR   \n",
       "\n",
       "   ...     Effectif Date_Creation Forme_Juridique_INSEE  Code_APE Typologie  \\\n",
       "0  ...  19 salariés    1980-01-01                5710.0     6832A     Siège   \n",
       "1  ...   5 salariés    2007-01-22                5710.0     6832A     Siège   \n",
       "\n",
       "                            URL_PagesJaunes               URL_Website  \\\n",
       "0  https://www.pagesjaunes.fr/pros/00091222          www.cgilegoff.fr   \n",
       "1  https://www.pagesjaunes.fr/pros/53322784  www.excellencegestion.fr   \n",
       "\n",
       "                                        URL_Solocal URL_Linkedin_Entreprise  \\\n",
       "0  http://cabinetgestimmobbylegoff.site-solocal.com                     NaN   \n",
       "1                                               NaN                     NaN   \n",
       "\n",
       "   ID_Linkedin_Entreprise  \n",
       "0                     NaN  \n",
       "1                     NaN  \n",
       "\n",
       "[2 rows x 21 columns]"
      ]
     },
     "execution_count": 829,
     "metadata": {},
     "output_type": "execute_result"
    }
   ],
   "source": [
    "pj.head(2)"
   ]
  },
  {
   "cell_type": "code",
   "execution_count": 830,
   "metadata": {},
   "outputs": [],
   "source": [
    "merged_df = pd.merge(syndics, pj, on='SIRET', suffixes=('_s', '_pj'), how='outer')"
   ]
  },
  {
   "cell_type": "markdown",
   "metadata": {},
   "source": [
    "Check colonnes en commun "
   ]
  },
  {
   "cell_type": "code",
   "execution_count": 831,
   "metadata": {},
   "outputs": [],
   "source": [
    "def choose_nom(x) :\n",
    "    if pd.isna(x['Nom_Syndic']) :\n",
    "        return x['Nom']\n",
    "    elif pd.isna(x['Nom']) :       \n",
    "        return x['Nom_Syndic']\n",
    "    else :\n",
    "        return x['Nom_Syndic'] + \" (pj : \" +  x['Nom'] + \")\"\n",
    "\n",
    "\n",
    "merged_df['New_Nom'] = merged_df.apply(lambda x : choose_nom(x), axis=1)\n",
    "merged_df = merged_df.drop(['Nom_Syndic', 'Nom'], axis=1)\n",
    "merged_df.rename(columns={'New_Nom' : 'Nom'}, inplace=True)"
   ]
  },
  {
   "cell_type": "code",
   "execution_count": 832,
   "metadata": {},
   "outputs": [],
   "source": [
    "def choose_adresse(x) :\n",
    "    if pd.isna(x['Adresse_s']) :\n",
    "        return x['Adresse_pj']\n",
    "    elif pd.isna(x['Adresse_pj']) :       \n",
    "        return x['Adresse_s']\n",
    "    else :\n",
    "        return x['Adresse_s'] + \" (pj : \" +  x['Adresse_pj'] + \")\"\n",
    "\n",
    "merged_df['Adresse'] = merged_df.apply(lambda x : choose_adresse(x), axis=1)\n",
    "merged_df = merged_df.drop(['Adresse_s', 'Adresse_pj'], axis=1)"
   ]
  },
  {
   "cell_type": "code",
   "execution_count": 833,
   "metadata": {},
   "outputs": [],
   "source": [
    "def choose_CodePostal(x):\n",
    "    if pd.isna(x['Code_Postal_s']):\n",
    "        cp = str(x['Code_Postal_pj'])\n",
    "        if cp[-2] == '.' : \n",
    "            cp = cp[:-2]\n",
    "        return cp\n",
    "    elif pd.isna(x['Code_Postal_pj']):\n",
    "        if x['Code_Postal_s'] != '[ND]':  # Check if the value is not 'ND'\n",
    "            cp = str(x['Code_Postal_s'])\n",
    "            if cp[-2] == '.' : \n",
    "                cp = cp[:-2]\n",
    "            return cp\n",
    "        else:\n",
    "            return None  # or another placeholder value\n",
    "    else:\n",
    "        cp = str(x['Code_Postal_pj'])\n",
    "        if cp[-2] == '.' : \n",
    "            cp = cp[:-2]\n",
    "        return cp\n",
    "\n",
    "merged_df['Code_Postal'] = merged_df.apply(choose_CodePostal, axis=1)\n",
    "merged_df = merged_df.drop(['Code_Postal_s', 'Code_Postal_pj'], axis=1)"
   ]
  },
  {
   "cell_type": "code",
   "execution_count": 834,
   "metadata": {},
   "outputs": [],
   "source": [
    "def choose_Ville(x) :\n",
    "    if pd.isna(x['Ville_s']) :\n",
    "        return x['Ville_pj']\n",
    "    elif pd.isna(x['Ville_pj']) :       \n",
    "        return x['Ville_s']\n",
    "    else :\n",
    "        return x['Ville_s'] \n",
    "\n",
    "merged_df['Ville'] = merged_df.apply(lambda x : choose_Ville(x), axis=1)\n",
    "merged_df = merged_df.drop(['Ville_s', 'Ville_pj'], axis=1)"
   ]
  },
  {
   "cell_type": "code",
   "execution_count": 835,
   "metadata": {},
   "outputs": [],
   "source": [
    "def choose_CodePays(x) :\n",
    "    if pd.isna(x['Code_Pays_s']) :\n",
    "        return x['Code_Pays_pj']\n",
    "    elif pd.isna(x['Code_Pays_pj']) :       \n",
    "        return x['Code_Pays_s']\n",
    "    else :\n",
    "        return x['Code_Pays_s']\n",
    "\n",
    "merged_df['Code_Pays'] = merged_df.apply(lambda x : choose_CodePays(x), axis=1)\n",
    "merged_df = merged_df.drop(['Code_Pays_s', 'Code_Pays_pj'], axis=1)"
   ]
  },
  {
   "cell_type": "code",
   "execution_count": 836,
   "metadata": {},
   "outputs": [],
   "source": [
    "def choose_Departement(x) :\n",
    "    if pd.isna(x['Departement_s']) :\n",
    "        return str(int(x['Departement_pj']))\n",
    "    elif pd.isna(x['Departement_pj']) :       \n",
    "        return x['Departement_s']\n",
    "    else :\n",
    "        return x['Departement_s']\n",
    "\n",
    "merged_df['Departement'] = merged_df.apply(lambda x : choose_Departement(x), axis=1)"
   ]
  },
  {
   "cell_type": "code",
   "execution_count": 837,
   "metadata": {},
   "outputs": [],
   "source": [
    "def choose_APE(x) :\n",
    "    if pd.isna(x['Code_APE_s']) :\n",
    "        return x['Code_APE_pj']\n",
    "    elif pd.isna(x['Code_APE_pj']) :       \n",
    "        return x['Code_APE_s'].replace('.','')\n",
    "    else :\n",
    "        return x['Code_APE_pj']\n",
    "\n",
    "merged_df['Code_APE'] = merged_df.apply(lambda x : choose_APE(x), axis=1)\n",
    "merged_df = merged_df.drop(['Code_APE_s', 'Code_APE_pj'], axis=1)"
   ]
  },
  {
   "cell_type": "code",
   "execution_count": 838,
   "metadata": {},
   "outputs": [],
   "source": [
    "def choose_DateCreation(x) :\n",
    "    if pd.isna(x['Date_Creation_s']) :\n",
    "        return x['Date_Creation_pj']\n",
    "    elif pd.isna(x['Date_Creation_pj']) :       \n",
    "        return x['Date_Creation_s']\n",
    "    else :\n",
    "        return x['Date_Creation_s']\n",
    "\n",
    "merged_df['Date_Creation'] = merged_df.apply(lambda x : choose_DateCreation(x), axis=1)\n",
    "merged_df = merged_df.drop(['Date_Creation_s', 'Date_Creation_pj'], axis=1)"
   ]
  },
  {
   "cell_type": "code",
   "execution_count": 839,
   "metadata": {},
   "outputs": [],
   "source": [
    "def choose_effectif(x) :\n",
    "    if pd.isna(x['Effectif_s']) and pd.isna(x['Effectif_pj']) :\n",
    "        return '?'\n",
    "    elif pd.isna(x['Effectif_pj']) :       \n",
    "        return x['Effectif_s']\n",
    "    elif pd.isna(x['Effectif_s']) :\n",
    "        return 'None'\n",
    "    else :\n",
    "        return x['Effectif_s'] + \" (pj : \" +  x['Effectif_pj'].split(\" \")[1] + \")\"\n",
    "\n",
    "merged_df['Effectif'] = merged_df.apply(lambda x : choose_effectif(x), axis=1)\n",
    "merged_df = merged_df.drop(['Effectif_s', 'Effectif_pj'], axis=1)"
   ]
  },
  {
   "cell_type": "code",
   "execution_count": 840,
   "metadata": {},
   "outputs": [],
   "source": [
    "def choose_typologie(x) :\n",
    "    if pd.isna(x['Typologie_s']) :\n",
    "        return x['Typologie_pj']\n",
    "    elif pd.isna(x['Typologie_pj']) :       \n",
    "        return x['Typologie_s']\n",
    "    else :\n",
    "        return x['Typologie_s']\n",
    "\n",
    "merged_df['Typologie'] = merged_df.apply(lambda x : choose_typologie(x), axis=1)\n",
    "merged_df = merged_df.drop(['Typologie_s', 'Typologie_pj'], axis=1)"
   ]
  },
  {
   "cell_type": "markdown",
   "metadata": {},
   "source": [
    "Check types colonnes "
   ]
  },
  {
   "cell_type": "code",
   "execution_count": 841,
   "metadata": {},
   "outputs": [],
   "source": [
    "merged_df[\"Forme_Juridique_INSEE\"] = merged_df[\"Forme_Juridique_INSEE\"].apply(lambda x : x if not pd.isna(x) else 0)\n",
    "merged_df[\"Forme_Juridique_INSEE\"] = merged_df[\"Forme_Juridique_INSEE\"].astype(int)"
   ]
  },
  {
   "cell_type": "code",
   "execution_count": 842,
   "metadata": {},
   "outputs": [],
   "source": [
    "merged_df[\"URL_Linkedin_Entreprise\"] = merged_df[\"URL_Linkedin_Entreprise\"].apply(lambda x : str(x) if not pd.isna(x) else '?')\n",
    "merged_df[\"ID_Linkedin_Entreprise\"] = merged_df[\"URL_Linkedin_Entreprise\"].apply(lambda x : str(x) if not pd.isna(x) else '?')\n"
   ]
  },
  {
   "cell_type": "code",
   "execution_count": 843,
   "metadata": {},
   "outputs": [],
   "source": [
    "col_merged = ['SIRET', \n",
    "              'Nom',\n",
    "              'Autre_Denomination',\n",
    "              'Catégorie',\n",
    "              'Description',\n",
    "              \n",
    "              'Adresse',\n",
    "              'Code_Postal', \n",
    "              'Ville',  \n",
    "              'Code_Commune',\n",
    "              'Code_Pays',  \n",
    "              'Departement',\n",
    "\n",
    "              'Telephones',\n",
    "              'URL_PagesJaunes', \n",
    "              'URL_Website', \n",
    "              'URL_Solocal',\n",
    "              'URL_Linkedin_Entreprise', \n",
    "              'ID_Linkedin_Entreprise',\n",
    "              \n",
    "              'Forme_Juridique_INSEE',\n",
    "              'Code_APE', \n",
    "              'Date_Creation',\n",
    "              'Effectif', \n",
    "              'Typologie'\n",
    "]"
   ]
  },
  {
   "cell_type": "code",
   "execution_count": 844,
   "metadata": {},
   "outputs": [
    {
     "data": {
      "text/html": [
       "<div>\n",
       "<style scoped>\n",
       "    .dataframe tbody tr th:only-of-type {\n",
       "        vertical-align: middle;\n",
       "    }\n",
       "\n",
       "    .dataframe tbody tr th {\n",
       "        vertical-align: top;\n",
       "    }\n",
       "\n",
       "    .dataframe thead th {\n",
       "        text-align: right;\n",
       "    }\n",
       "</style>\n",
       "<table border=\"1\" class=\"dataframe\">\n",
       "  <thead>\n",
       "    <tr style=\"text-align: right;\">\n",
       "      <th></th>\n",
       "      <th>SIRET</th>\n",
       "      <th>Nom</th>\n",
       "      <th>Autre_Denomination</th>\n",
       "      <th>Catégorie</th>\n",
       "      <th>Description</th>\n",
       "      <th>Adresse</th>\n",
       "      <th>Code_Postal</th>\n",
       "      <th>Ville</th>\n",
       "      <th>Code_Commune</th>\n",
       "      <th>Code_Pays</th>\n",
       "      <th>...</th>\n",
       "      <th>URL_PagesJaunes</th>\n",
       "      <th>URL_Website</th>\n",
       "      <th>URL_Solocal</th>\n",
       "      <th>URL_Linkedin_Entreprise</th>\n",
       "      <th>ID_Linkedin_Entreprise</th>\n",
       "      <th>Forme_Juridique_INSEE</th>\n",
       "      <th>Code_APE</th>\n",
       "      <th>Date_Creation</th>\n",
       "      <th>Effectif</th>\n",
       "      <th>Typologie</th>\n",
       "    </tr>\n",
       "  </thead>\n",
       "  <tbody>\n",
       "    <tr>\n",
       "      <th>0</th>\n",
       "      <td>27240001100032</td>\n",
       "      <td>OFFICE PUBLIC DE L'HABITAT PERIGORD HABITAT</td>\n",
       "      <td>null</td>\n",
       "      <td>null</td>\n",
       "      <td>null</td>\n",
       "      <td>CRE@VALLEE NORD - CREAPARK BAT 2 212 BOULEVARD...</td>\n",
       "      <td>24660</td>\n",
       "      <td>COULOUNIEIX-CHAMIERS</td>\n",
       "      <td>24138</td>\n",
       "      <td>FR</td>\n",
       "      <td>...</td>\n",
       "      <td>null</td>\n",
       "      <td>null</td>\n",
       "      <td>null</td>\n",
       "      <td>?</td>\n",
       "      <td>?</td>\n",
       "      <td>0</td>\n",
       "      <td>6820B</td>\n",
       "      <td>2015-06-15</td>\n",
       "      <td>22</td>\n",
       "      <td>Siège</td>\n",
       "    </tr>\n",
       "    <tr>\n",
       "      <th>1</th>\n",
       "      <td>30003136600051</td>\n",
       "      <td>CABINET TAPISSIER &amp; ASSOCIES</td>\n",
       "      <td>null</td>\n",
       "      <td>null</td>\n",
       "      <td>null</td>\n",
       "      <td>1 AVENUE DE CONTADES</td>\n",
       "      <td>49000</td>\n",
       "      <td>ANGERS</td>\n",
       "      <td>49007</td>\n",
       "      <td>FR</td>\n",
       "      <td>...</td>\n",
       "      <td>null</td>\n",
       "      <td>null</td>\n",
       "      <td>null</td>\n",
       "      <td>?</td>\n",
       "      <td>?</td>\n",
       "      <td>0</td>\n",
       "      <td>6831Z</td>\n",
       "      <td>2023-03-13</td>\n",
       "      <td>?</td>\n",
       "      <td>Siège</td>\n",
       "    </tr>\n",
       "    <tr>\n",
       "      <th>2</th>\n",
       "      <td>30007257600014</td>\n",
       "      <td>AGENCE SECKLER</td>\n",
       "      <td>null</td>\n",
       "      <td>null</td>\n",
       "      <td>null</td>\n",
       "      <td>9 AVENUE FOCH</td>\n",
       "      <td>68000</td>\n",
       "      <td>COLMAR</td>\n",
       "      <td>68066</td>\n",
       "      <td>FR</td>\n",
       "      <td>...</td>\n",
       "      <td>null</td>\n",
       "      <td>null</td>\n",
       "      <td>null</td>\n",
       "      <td>?</td>\n",
       "      <td>?</td>\n",
       "      <td>0</td>\n",
       "      <td>6831Z</td>\n",
       "      <td>1974-01-01</td>\n",
       "      <td>11</td>\n",
       "      <td>Siège</td>\n",
       "    </tr>\n",
       "    <tr>\n",
       "      <th>3</th>\n",
       "      <td>30016560200024</td>\n",
       "      <td>LOCATRIM CASSIS</td>\n",
       "      <td>null</td>\n",
       "      <td>null</td>\n",
       "      <td>null</td>\n",
       "      <td>2 RUE ADOLPHE THIERS</td>\n",
       "      <td>13260</td>\n",
       "      <td>CASSIS</td>\n",
       "      <td>13022</td>\n",
       "      <td>FR</td>\n",
       "      <td>...</td>\n",
       "      <td>null</td>\n",
       "      <td>null</td>\n",
       "      <td>null</td>\n",
       "      <td>?</td>\n",
       "      <td>?</td>\n",
       "      <td>0</td>\n",
       "      <td>6831Z</td>\n",
       "      <td>1989-04-10</td>\n",
       "      <td>02</td>\n",
       "      <td>Siège</td>\n",
       "    </tr>\n",
       "    <tr>\n",
       "      <th>4</th>\n",
       "      <td>30017936300050</td>\n",
       "      <td>REGIE MIALON</td>\n",
       "      <td>null</td>\n",
       "      <td>null</td>\n",
       "      <td>null</td>\n",
       "      <td>47 - 49 47 AVENUE DES ETATS UNIS</td>\n",
       "      <td>63000</td>\n",
       "      <td>CLERMONT-FERRAND</td>\n",
       "      <td>63113</td>\n",
       "      <td>FR</td>\n",
       "      <td>...</td>\n",
       "      <td>null</td>\n",
       "      <td>null</td>\n",
       "      <td>null</td>\n",
       "      <td>?</td>\n",
       "      <td>?</td>\n",
       "      <td>0</td>\n",
       "      <td>6831Z</td>\n",
       "      <td>2009-11-15</td>\n",
       "      <td>12</td>\n",
       "      <td>Siège</td>\n",
       "    </tr>\n",
       "    <tr>\n",
       "      <th>...</th>\n",
       "      <td>...</td>\n",
       "      <td>...</td>\n",
       "      <td>...</td>\n",
       "      <td>...</td>\n",
       "      <td>...</td>\n",
       "      <td>...</td>\n",
       "      <td>...</td>\n",
       "      <td>...</td>\n",
       "      <td>...</td>\n",
       "      <td>...</td>\n",
       "      <td>...</td>\n",
       "      <td>...</td>\n",
       "      <td>...</td>\n",
       "      <td>...</td>\n",
       "      <td>...</td>\n",
       "      <td>...</td>\n",
       "      <td>...</td>\n",
       "      <td>...</td>\n",
       "      <td>...</td>\n",
       "      <td>...</td>\n",
       "      <td>...</td>\n",
       "    </tr>\n",
       "    <tr>\n",
       "      <th>4267</th>\n",
       "      <td>39371821800018</td>\n",
       "      <td>SCP JUNQUA LAMARQUE &amp; ASSOCIES</td>\n",
       "      <td>null</td>\n",
       "      <td>null</td>\n",
       "      <td>null</td>\n",
       "      <td>CENTRE JORLIS-ALLIANCE 3 RUE DU PONT DE L AVEU...</td>\n",
       "      <td>64600</td>\n",
       "      <td>ANGLET</td>\n",
       "      <td>64024</td>\n",
       "      <td>FR</td>\n",
       "      <td>...</td>\n",
       "      <td>null</td>\n",
       "      <td>null</td>\n",
       "      <td>null</td>\n",
       "      <td>?</td>\n",
       "      <td>?</td>\n",
       "      <td>0</td>\n",
       "      <td>6910Z</td>\n",
       "      <td>1994-01-01</td>\n",
       "      <td>02</td>\n",
       "      <td>Siège</td>\n",
       "    </tr>\n",
       "    <tr>\n",
       "      <th>4268</th>\n",
       "      <td>39381579000034</td>\n",
       "      <td>CABINET CLAUDE ANDRES</td>\n",
       "      <td>null</td>\n",
       "      <td>null</td>\n",
       "      <td>null</td>\n",
       "      <td>-BATIMENT LE GALION- 1 RUE DE PULLY</td>\n",
       "      <td>67210</td>\n",
       "      <td>OBERNAI</td>\n",
       "      <td>67348</td>\n",
       "      <td>FR</td>\n",
       "      <td>...</td>\n",
       "      <td>null</td>\n",
       "      <td>null</td>\n",
       "      <td>null</td>\n",
       "      <td>?</td>\n",
       "      <td>?</td>\n",
       "      <td>0</td>\n",
       "      <td>7112A</td>\n",
       "      <td>2016-05-16</td>\n",
       "      <td>11</td>\n",
       "      <td>Siège</td>\n",
       "    </tr>\n",
       "    <tr>\n",
       "      <th>4269</th>\n",
       "      <td>78950592200029</td>\n",
       "      <td>GRW IMMOBILIER</td>\n",
       "      <td>null</td>\n",
       "      <td>Syndics de copropriétés</td>\n",
       "      <td>Notre agence prend en charge la gestion de vos...</td>\n",
       "      <td>56 rue Gén de Gaulle</td>\n",
       "      <td>78120</td>\n",
       "      <td>Rambouillet</td>\n",
       "      <td>null</td>\n",
       "      <td>FR</td>\n",
       "      <td>...</td>\n",
       "      <td>https://www.pagesjaunes.fr/pros/55179761</td>\n",
       "      <td>www.adcrambouillet.com</td>\n",
       "      <td>null</td>\n",
       "      <td>?</td>\n",
       "      <td>?</td>\n",
       "      <td>5710</td>\n",
       "      <td>6420Z</td>\n",
       "      <td>2012-12-15</td>\n",
       "      <td>None</td>\n",
       "      <td>Siège</td>\n",
       "    </tr>\n",
       "    <tr>\n",
       "      <th>4270</th>\n",
       "      <td>62980041800036</td>\n",
       "      <td>S.E.M.I.V Sté d'Economie Mixte Immobilière de ...</td>\n",
       "      <td>S.E.M.I.V SOC ECONOMIE MIXTE IMMOBILIERE VELIZY</td>\n",
       "      <td>Syndics de copropriétés</td>\n",
       "      <td>Si vous cherchez un expert en gestion de copro...</td>\n",
       "      <td>54 avenue Europe Cs</td>\n",
       "      <td>10015</td>\n",
       "      <td>78140 Vélizy Villacoublay</td>\n",
       "      <td>null</td>\n",
       "      <td>FR</td>\n",
       "      <td>...</td>\n",
       "      <td>https://www.pagesjaunes.fr/pros/05676299</td>\n",
       "      <td>www.semiv-velizy.fr</td>\n",
       "      <td>null</td>\n",
       "      <td>?</td>\n",
       "      <td>?</td>\n",
       "      <td>5515</td>\n",
       "      <td>6820A</td>\n",
       "      <td>1990-04-20</td>\n",
       "      <td>None</td>\n",
       "      <td>Siège</td>\n",
       "    </tr>\n",
       "    <tr>\n",
       "      <th>4271</th>\n",
       "      <td>57820239200010</td>\n",
       "      <td>Anic Diot Et Compagnie</td>\n",
       "      <td>null</td>\n",
       "      <td>Syndics de copropriétés</td>\n",
       "      <td>null</td>\n",
       "      <td>54 avenue Jean Jaurès</td>\n",
       "      <td>93220</td>\n",
       "      <td>Gagny</td>\n",
       "      <td>null</td>\n",
       "      <td>FR</td>\n",
       "      <td>...</td>\n",
       "      <td>https://www.pagesjaunes.fr/pros/00092987</td>\n",
       "      <td>www.anicdiot.fr</td>\n",
       "      <td>null</td>\n",
       "      <td>?</td>\n",
       "      <td>?</td>\n",
       "      <td>5499</td>\n",
       "      <td>8110Z</td>\n",
       "      <td>1957-01-01</td>\n",
       "      <td>None</td>\n",
       "      <td>Siège</td>\n",
       "    </tr>\n",
       "  </tbody>\n",
       "</table>\n",
       "<p>4272 rows × 22 columns</p>\n",
       "</div>"
      ],
      "text/plain": [
       "               SIRET                                                Nom  \\\n",
       "0     27240001100032        OFFICE PUBLIC DE L'HABITAT PERIGORD HABITAT   \n",
       "1     30003136600051                       CABINET TAPISSIER & ASSOCIES   \n",
       "2     30007257600014                                     AGENCE SECKLER   \n",
       "3     30016560200024                                    LOCATRIM CASSIS   \n",
       "4     30017936300050                                       REGIE MIALON   \n",
       "...              ...                                                ...   \n",
       "4267  39371821800018                     SCP JUNQUA LAMARQUE & ASSOCIES   \n",
       "4268  39381579000034                              CABINET CLAUDE ANDRES   \n",
       "4269  78950592200029                                     GRW IMMOBILIER   \n",
       "4270  62980041800036  S.E.M.I.V Sté d'Economie Mixte Immobilière de ...   \n",
       "4271  57820239200010                             Anic Diot Et Compagnie   \n",
       "\n",
       "                                   Autre_Denomination  \\\n",
       "0                                                null   \n",
       "1                                                null   \n",
       "2                                                null   \n",
       "3                                                null   \n",
       "4                                                null   \n",
       "...                                               ...   \n",
       "4267                                             null   \n",
       "4268                                             null   \n",
       "4269                                             null   \n",
       "4270  S.E.M.I.V SOC ECONOMIE MIXTE IMMOBILIERE VELIZY   \n",
       "4271                                             null   \n",
       "\n",
       "                    Catégorie  \\\n",
       "0                        null   \n",
       "1                        null   \n",
       "2                        null   \n",
       "3                        null   \n",
       "4                        null   \n",
       "...                       ...   \n",
       "4267                     null   \n",
       "4268                     null   \n",
       "4269  Syndics de copropriétés   \n",
       "4270  Syndics de copropriétés   \n",
       "4271  Syndics de copropriétés   \n",
       "\n",
       "                                            Description  \\\n",
       "0                                                  null   \n",
       "1                                                  null   \n",
       "2                                                  null   \n",
       "3                                                  null   \n",
       "4                                                  null   \n",
       "...                                                 ...   \n",
       "4267                                               null   \n",
       "4268                                               null   \n",
       "4269  Notre agence prend en charge la gestion de vos...   \n",
       "4270  Si vous cherchez un expert en gestion de copro...   \n",
       "4271                                               null   \n",
       "\n",
       "                                                Adresse Code_Postal  \\\n",
       "0     CRE@VALLEE NORD - CREAPARK BAT 2 212 BOULEVARD...       24660   \n",
       "1                                 1 AVENUE DE CONTADES        49000   \n",
       "2                                        9 AVENUE FOCH        68000   \n",
       "3                                 2 RUE ADOLPHE THIERS        13260   \n",
       "4                     47 - 49 47 AVENUE DES ETATS UNIS        63000   \n",
       "...                                                 ...         ...   \n",
       "4267  CENTRE JORLIS-ALLIANCE 3 RUE DU PONT DE L AVEU...       64600   \n",
       "4268               -BATIMENT LE GALION- 1 RUE DE PULLY        67210   \n",
       "4269                               56 rue Gén de Gaulle       78120   \n",
       "4270                                54 avenue Europe Cs       10015   \n",
       "4271                              54 avenue Jean Jaurès       93220   \n",
       "\n",
       "                          Ville Code_Commune Code_Pays  ...  \\\n",
       "0          COULOUNIEIX-CHAMIERS        24138        FR  ...   \n",
       "1                        ANGERS        49007        FR  ...   \n",
       "2                        COLMAR        68066        FR  ...   \n",
       "3                        CASSIS        13022        FR  ...   \n",
       "4              CLERMONT-FERRAND        63113        FR  ...   \n",
       "...                         ...          ...       ...  ...   \n",
       "4267                     ANGLET        64024        FR  ...   \n",
       "4268                    OBERNAI        67348        FR  ...   \n",
       "4269                Rambouillet         null        FR  ...   \n",
       "4270  78140 Vélizy Villacoublay         null        FR  ...   \n",
       "4271                      Gagny         null        FR  ...   \n",
       "\n",
       "                               URL_PagesJaunes             URL_Website  \\\n",
       "0                                         null                    null   \n",
       "1                                         null                    null   \n",
       "2                                         null                    null   \n",
       "3                                         null                    null   \n",
       "4                                         null                    null   \n",
       "...                                        ...                     ...   \n",
       "4267                                      null                    null   \n",
       "4268                                      null                    null   \n",
       "4269  https://www.pagesjaunes.fr/pros/55179761  www.adcrambouillet.com   \n",
       "4270  https://www.pagesjaunes.fr/pros/05676299     www.semiv-velizy.fr   \n",
       "4271  https://www.pagesjaunes.fr/pros/00092987         www.anicdiot.fr   \n",
       "\n",
       "     URL_Solocal URL_Linkedin_Entreprise ID_Linkedin_Entreprise  \\\n",
       "0           null                       ?                      ?   \n",
       "1           null                       ?                      ?   \n",
       "2           null                       ?                      ?   \n",
       "3           null                       ?                      ?   \n",
       "4           null                       ?                      ?   \n",
       "...          ...                     ...                    ...   \n",
       "4267        null                       ?                      ?   \n",
       "4268        null                       ?                      ?   \n",
       "4269        null                       ?                      ?   \n",
       "4270        null                       ?                      ?   \n",
       "4271        null                       ?                      ?   \n",
       "\n",
       "     Forme_Juridique_INSEE Code_APE  Date_Creation Effectif Typologie  \n",
       "0                        0    6820B     2015-06-15       22     Siège  \n",
       "1                        0    6831Z     2023-03-13        ?     Siège  \n",
       "2                        0    6831Z     1974-01-01       11     Siège  \n",
       "3                        0    6831Z     1989-04-10       02     Siège  \n",
       "4                        0    6831Z     2009-11-15       12     Siège  \n",
       "...                    ...      ...            ...      ...       ...  \n",
       "4267                     0    6910Z     1994-01-01       02     Siège  \n",
       "4268                     0    7112A     2016-05-16       11     Siège  \n",
       "4269                  5710    6420Z     2012-12-15     None     Siège  \n",
       "4270                  5515    6820A     1990-04-20     None     Siège  \n",
       "4271                  5499    8110Z     1957-01-01     None     Siège  \n",
       "\n",
       "[4272 rows x 22 columns]"
      ]
     },
     "execution_count": 844,
     "metadata": {},
     "output_type": "execute_result"
    }
   ],
   "source": [
    "merged_df = merged_df[col_merged]\n",
    "merged_df = merged_df.fillna('null')\n",
    "merged_df.to_csv('data/clean/merged_syndics.csv', index=False)\n",
    "merged_df"
   ]
  },
  {
   "cell_type": "code",
   "execution_count": 845,
   "metadata": {},
   "outputs": [
    {
     "data": {
      "text/plain": [
       "array(['24', '49', '68', '13', '63', '59', '31', '69', '38', '64', '71',\n",
       "       '87', '75', '94', '22', '57', '83', '80', '06', '91', '21', '95',\n",
       "       '67', '35', '78', '60', '51', '74', '85', '05', '42', '14', '81',\n",
       "       '92', '03', '44', '29', '37', '33', '45', '16', '43', '46', '54',\n",
       "       '48', '86', '97', '56', '40', '04', '30', '73', '66', '82', '20',\n",
       "       '34', '76', '15', '25', '52', '01', '93', '02', '58', '77', '84',\n",
       "       '50', '10', '65', '11', '47', '12', '17', '28', '39', '61', '26',\n",
       "       '36', '53', '07', '90', '89', '09', '18', '23', '62', '79', '88',\n",
       "       '72', '19', '41', '70', '27', 'None', '08', '32', '55'],\n",
       "      dtype=object)"
      ]
     },
     "execution_count": 845,
     "metadata": {},
     "output_type": "execute_result"
    }
   ],
   "source": [
    "merged_df['Departement'].unique()"
   ]
  },
  {
   "cell_type": "code",
   "execution_count": 846,
   "metadata": {},
   "outputs": [
    {
     "data": {
      "text/plain": [
       "SIRET                      object\n",
       "Nom                        object\n",
       "Autre_Denomination         object\n",
       "Catégorie                  object\n",
       "Description                object\n",
       "Adresse                    object\n",
       "Code_Postal                object\n",
       "Ville                      object\n",
       "Code_Commune               object\n",
       "Code_Pays                  object\n",
       "Departement                object\n",
       "Telephones                 object\n",
       "URL_PagesJaunes            object\n",
       "URL_Website                object\n",
       "URL_Solocal                object\n",
       "URL_Linkedin_Entreprise    object\n",
       "ID_Linkedin_Entreprise     object\n",
       "Forme_Juridique_INSEE       int32\n",
       "Code_APE                   object\n",
       "Date_Creation              object\n",
       "Effectif                   object\n",
       "Typologie                  object\n",
       "dtype: object"
      ]
     },
     "execution_count": 846,
     "metadata": {},
     "output_type": "execute_result"
    }
   ],
   "source": [
    "merged_df.dtypes"
   ]
  },
  {
   "cell_type": "markdown",
   "metadata": {},
   "source": [
    "Foreign key problem"
   ]
  },
  {
   "cell_type": "code",
   "execution_count": 847,
   "metadata": {},
   "outputs": [
    {
     "data": {
      "text/plain": [
       "(4272, 22)"
      ]
     },
     "execution_count": 847,
     "metadata": {},
     "output_type": "execute_result"
    }
   ],
   "source": [
    "merged_df.shape"
   ]
  },
  {
   "cell_type": "code",
   "execution_count": 849,
   "metadata": {},
   "outputs": [],
   "source": [
    "#Dans Syndics, ajouter une ligne avec 01234567890123\n",
    "merged_df.loc[len(merged_df)] = ['01234567890123'] + ['null'] * 21\n",
    "merged_df.drop_duplicates(subset=['SIRET'], keep='first', inplace=True)\n",
    "merged_df.to_csv('data/clean/merged_syndics.csv', index=False)"
   ]
  },
  {
   "cell_type": "code",
   "execution_count": 851,
   "metadata": {},
   "outputs": [],
   "source": [
    "#Dans Copros, pour toutes les copros qui n'ont pas de match (Match_SIRET = -1, 0), \n",
    "#Remplacer le SIRET par 01234567890123\n",
    "copros_df['SIRET_Syndic'] = copros_df.apply(lambda x : '01234567890123' if x['Match_SIRET'] in [-1,0] else x['SIRET_Syndic'], axis=1)\n",
    "\n",
    "copros_df.to_csv('data/clean/copros.csv', index=False)"
   ]
  }
 ],
 "metadata": {
  "kernelspec": {
   "display_name": "adaexam2020",
   "language": "python",
   "name": "adaexam2020"
  },
  "language_info": {
   "codemirror_mode": {
    "name": "ipython",
    "version": 3
   },
   "file_extension": ".py",
   "mimetype": "text/x-python",
   "name": "python",
   "nbconvert_exporter": "python",
   "pygments_lexer": "ipython3",
   "version": "3.9.13"
  }
 },
 "nbformat": 4,
 "nbformat_minor": 2
}
